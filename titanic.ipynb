{
 "cells": [
  {
   "cell_type": "markdown",
   "id": "funny-running",
   "metadata": {},
   "source": [
    "# Titanic: Who Will Survive?"
   ]
  },
  {
   "cell_type": "markdown",
   "id": "37738e5e",
   "metadata": {},
   "source": [
    "This notebook is for the famous **Titanic** competition. It's based on Daniel Bourke's notebook with enhancements."
   ]
  },
  {
   "cell_type": "markdown",
   "id": "bb5e5101",
   "metadata": {},
   "source": [
    "<p align = \"center\">\n",
    "    <img src = \"https://kerrycoaches.com/wp-content/uploads/2017/02/Titanic-1.jpg\" >\n",
    "</p>\n",
    "<p style=\"text-align:center\">\n",
    "    Image via <a href=\"https://kerrycoaches.com/2017/03/12/12-surprising-facts-ireland/titanic-2/\" target=\"_blank\">kerrycoaches.com</a>\n",
    "</p>\n"
   ]
  },
  {
   "cell_type": "markdown",
   "id": "3897580e",
   "metadata": {},
   "source": [
    "## 1. Introduction"
   ]
  },
  {
   "cell_type": "code",
   "execution_count": 1231,
   "id": "61972534",
   "metadata": {},
   "outputs": [],
   "source": [
    "# --- Import libraries and dependencies ---\n",
    "\n",
    "import numpy as np\n",
    "import pandas as pd\n",
    "import seaborn as sns\n",
    "import matplotlib.pyplot as plt\n",
    "from sklearn.preprocessing import OneHotEncoder, LabelEncoder\n",
    "from sklearn.model_selection import train_test_split\n",
    "from sklearn.neighbors import KNeighborsClassifier\n",
    "from sklearn import tree\n",
    "from sklearn import metrics\n",
    "from sklearn import model_selection\n",
    "import math, time, random, datetime\n",
    "import warnings\n",
    "warnings.filterwarnings('ignore')\n",
    "%matplotlib inline"
   ]
  },
  {
   "cell_type": "code",
   "execution_count": 796,
   "id": "e79333c7",
   "metadata": {},
   "outputs": [],
   "source": [
    "# --- Import train & test Datasets ---\n",
    "\n",
    "train_url ='https://raw.githubusercontent.com/ufukeskici/datasets/main/titanic/train.csv'\n",
    "test_url ='https://raw.githubusercontent.com/ufukeskici/datasets/main/titanic/test.csv'\n",
    "gender_submission_url ='https://raw.githubusercontent.com/ufukeskici/datasets/main/titanic/gender_submission.csv'\n",
    "\n",
    "train = pd.read_csv(train_url, sep=',')\n",
    "test = pd.read_csv(test_url, sep=',')\n",
    "gender_submission = pd.read_csv(gender_submission_url, sep=',')"
   ]
  },
  {
   "cell_type": "code",
   "execution_count": 5,
   "id": "d5830f9b",
   "metadata": {},
   "outputs": [
    {
     "data": {
      "text/html": [
       "<div>\n",
       "<style scoped>\n",
       "    .dataframe tbody tr th:only-of-type {\n",
       "        vertical-align: middle;\n",
       "    }\n",
       "\n",
       "    .dataframe tbody tr th {\n",
       "        vertical-align: top;\n",
       "    }\n",
       "\n",
       "    .dataframe thead th {\n",
       "        text-align: right;\n",
       "    }\n",
       "</style>\n",
       "<table border=\"1\" class=\"dataframe\">\n",
       "  <thead>\n",
       "    <tr style=\"text-align: right;\">\n",
       "      <th></th>\n",
       "      <th>PassengerId</th>\n",
       "      <th>Survived</th>\n",
       "      <th>Pclass</th>\n",
       "      <th>Name</th>\n",
       "      <th>Sex</th>\n",
       "      <th>Age</th>\n",
       "      <th>SibSp</th>\n",
       "      <th>Parch</th>\n",
       "      <th>Ticket</th>\n",
       "      <th>Fare</th>\n",
       "      <th>Cabin</th>\n",
       "      <th>Embarked</th>\n",
       "    </tr>\n",
       "  </thead>\n",
       "  <tbody>\n",
       "    <tr>\n",
       "      <th>0</th>\n",
       "      <td>1</td>\n",
       "      <td>0</td>\n",
       "      <td>3</td>\n",
       "      <td>Braund, Mr. Owen Harris</td>\n",
       "      <td>male</td>\n",
       "      <td>22.0</td>\n",
       "      <td>1</td>\n",
       "      <td>0</td>\n",
       "      <td>A/5 21171</td>\n",
       "      <td>7.2500</td>\n",
       "      <td>NaN</td>\n",
       "      <td>S</td>\n",
       "    </tr>\n",
       "    <tr>\n",
       "      <th>1</th>\n",
       "      <td>2</td>\n",
       "      <td>1</td>\n",
       "      <td>1</td>\n",
       "      <td>Cumings, Mrs. John Bradley (Florence Briggs Th...</td>\n",
       "      <td>female</td>\n",
       "      <td>38.0</td>\n",
       "      <td>1</td>\n",
       "      <td>0</td>\n",
       "      <td>PC 17599</td>\n",
       "      <td>71.2833</td>\n",
       "      <td>C85</td>\n",
       "      <td>C</td>\n",
       "    </tr>\n",
       "    <tr>\n",
       "      <th>2</th>\n",
       "      <td>3</td>\n",
       "      <td>1</td>\n",
       "      <td>3</td>\n",
       "      <td>Heikkinen, Miss. Laina</td>\n",
       "      <td>female</td>\n",
       "      <td>26.0</td>\n",
       "      <td>0</td>\n",
       "      <td>0</td>\n",
       "      <td>STON/O2. 3101282</td>\n",
       "      <td>7.9250</td>\n",
       "      <td>NaN</td>\n",
       "      <td>S</td>\n",
       "    </tr>\n",
       "    <tr>\n",
       "      <th>3</th>\n",
       "      <td>4</td>\n",
       "      <td>1</td>\n",
       "      <td>1</td>\n",
       "      <td>Futrelle, Mrs. Jacques Heath (Lily May Peel)</td>\n",
       "      <td>female</td>\n",
       "      <td>35.0</td>\n",
       "      <td>1</td>\n",
       "      <td>0</td>\n",
       "      <td>113803</td>\n",
       "      <td>53.1000</td>\n",
       "      <td>C123</td>\n",
       "      <td>S</td>\n",
       "    </tr>\n",
       "    <tr>\n",
       "      <th>4</th>\n",
       "      <td>5</td>\n",
       "      <td>0</td>\n",
       "      <td>3</td>\n",
       "      <td>Allen, Mr. William Henry</td>\n",
       "      <td>male</td>\n",
       "      <td>35.0</td>\n",
       "      <td>0</td>\n",
       "      <td>0</td>\n",
       "      <td>373450</td>\n",
       "      <td>8.0500</td>\n",
       "      <td>NaN</td>\n",
       "      <td>S</td>\n",
       "    </tr>\n",
       "  </tbody>\n",
       "</table>\n",
       "</div>"
      ],
      "text/plain": [
       "   PassengerId  Survived  Pclass  \\\n",
       "0            1         0       3   \n",
       "1            2         1       1   \n",
       "2            3         1       3   \n",
       "3            4         1       1   \n",
       "4            5         0       3   \n",
       "\n",
       "                                                Name     Sex   Age  SibSp  \\\n",
       "0                            Braund, Mr. Owen Harris    male  22.0      1   \n",
       "1  Cumings, Mrs. John Bradley (Florence Briggs Th...  female  38.0      1   \n",
       "2                             Heikkinen, Miss. Laina  female  26.0      0   \n",
       "3       Futrelle, Mrs. Jacques Heath (Lily May Peel)  female  35.0      1   \n",
       "4                           Allen, Mr. William Henry    male  35.0      0   \n",
       "\n",
       "   Parch            Ticket     Fare Cabin Embarked  \n",
       "0      0         A/5 21171   7.2500   NaN        S  \n",
       "1      0          PC 17599  71.2833   C85        C  \n",
       "2      0  STON/O2. 3101282   7.9250   NaN        S  \n",
       "3      0            113803  53.1000  C123        S  \n",
       "4      0            373450   8.0500   NaN        S  "
      ]
     },
     "execution_count": 5,
     "metadata": {},
     "output_type": "execute_result"
    }
   ],
   "source": [
    "# --- Check the imported train file ---\n",
    "\n",
    "train.head(5)"
   ]
  },
  {
   "cell_type": "code",
   "execution_count": 6,
   "id": "d010c97a",
   "metadata": {},
   "outputs": [
    {
     "data": {
      "text/html": [
       "<div>\n",
       "<style scoped>\n",
       "    .dataframe tbody tr th:only-of-type {\n",
       "        vertical-align: middle;\n",
       "    }\n",
       "\n",
       "    .dataframe tbody tr th {\n",
       "        vertical-align: top;\n",
       "    }\n",
       "\n",
       "    .dataframe thead th {\n",
       "        text-align: right;\n",
       "    }\n",
       "</style>\n",
       "<table border=\"1\" class=\"dataframe\">\n",
       "  <thead>\n",
       "    <tr style=\"text-align: right;\">\n",
       "      <th></th>\n",
       "      <th>PassengerId</th>\n",
       "      <th>Pclass</th>\n",
       "      <th>Name</th>\n",
       "      <th>Sex</th>\n",
       "      <th>Age</th>\n",
       "      <th>SibSp</th>\n",
       "      <th>Parch</th>\n",
       "      <th>Ticket</th>\n",
       "      <th>Fare</th>\n",
       "      <th>Cabin</th>\n",
       "      <th>Embarked</th>\n",
       "    </tr>\n",
       "  </thead>\n",
       "  <tbody>\n",
       "    <tr>\n",
       "      <th>0</th>\n",
       "      <td>892</td>\n",
       "      <td>3</td>\n",
       "      <td>Kelly, Mr. James</td>\n",
       "      <td>male</td>\n",
       "      <td>34.5</td>\n",
       "      <td>0</td>\n",
       "      <td>0</td>\n",
       "      <td>330911</td>\n",
       "      <td>7.8292</td>\n",
       "      <td>NaN</td>\n",
       "      <td>Q</td>\n",
       "    </tr>\n",
       "    <tr>\n",
       "      <th>1</th>\n",
       "      <td>893</td>\n",
       "      <td>3</td>\n",
       "      <td>Wilkes, Mrs. James (Ellen Needs)</td>\n",
       "      <td>female</td>\n",
       "      <td>47.0</td>\n",
       "      <td>1</td>\n",
       "      <td>0</td>\n",
       "      <td>363272</td>\n",
       "      <td>7.0000</td>\n",
       "      <td>NaN</td>\n",
       "      <td>S</td>\n",
       "    </tr>\n",
       "    <tr>\n",
       "      <th>2</th>\n",
       "      <td>894</td>\n",
       "      <td>2</td>\n",
       "      <td>Myles, Mr. Thomas Francis</td>\n",
       "      <td>male</td>\n",
       "      <td>62.0</td>\n",
       "      <td>0</td>\n",
       "      <td>0</td>\n",
       "      <td>240276</td>\n",
       "      <td>9.6875</td>\n",
       "      <td>NaN</td>\n",
       "      <td>Q</td>\n",
       "    </tr>\n",
       "    <tr>\n",
       "      <th>3</th>\n",
       "      <td>895</td>\n",
       "      <td>3</td>\n",
       "      <td>Wirz, Mr. Albert</td>\n",
       "      <td>male</td>\n",
       "      <td>27.0</td>\n",
       "      <td>0</td>\n",
       "      <td>0</td>\n",
       "      <td>315154</td>\n",
       "      <td>8.6625</td>\n",
       "      <td>NaN</td>\n",
       "      <td>S</td>\n",
       "    </tr>\n",
       "    <tr>\n",
       "      <th>4</th>\n",
       "      <td>896</td>\n",
       "      <td>3</td>\n",
       "      <td>Hirvonen, Mrs. Alexander (Helga E Lindqvist)</td>\n",
       "      <td>female</td>\n",
       "      <td>22.0</td>\n",
       "      <td>1</td>\n",
       "      <td>1</td>\n",
       "      <td>3101298</td>\n",
       "      <td>12.2875</td>\n",
       "      <td>NaN</td>\n",
       "      <td>S</td>\n",
       "    </tr>\n",
       "  </tbody>\n",
       "</table>\n",
       "</div>"
      ],
      "text/plain": [
       "   PassengerId  Pclass                                          Name     Sex  \\\n",
       "0          892       3                              Kelly, Mr. James    male   \n",
       "1          893       3              Wilkes, Mrs. James (Ellen Needs)  female   \n",
       "2          894       2                     Myles, Mr. Thomas Francis    male   \n",
       "3          895       3                              Wirz, Mr. Albert    male   \n",
       "4          896       3  Hirvonen, Mrs. Alexander (Helga E Lindqvist)  female   \n",
       "\n",
       "    Age  SibSp  Parch   Ticket     Fare Cabin Embarked  \n",
       "0  34.5      0      0   330911   7.8292   NaN        Q  \n",
       "1  47.0      1      0   363272   7.0000   NaN        S  \n",
       "2  62.0      0      0   240276   9.6875   NaN        Q  \n",
       "3  27.0      0      0   315154   8.6625   NaN        S  \n",
       "4  22.0      1      1  3101298  12.2875   NaN        S  "
      ]
     },
     "execution_count": 6,
     "metadata": {},
     "output_type": "execute_result"
    }
   ],
   "source": [
    "# --- Check the imported test file ---\n",
    "\n",
    "test.head(5)"
   ]
  },
  {
   "cell_type": "markdown",
   "id": "e5830a48",
   "metadata": {},
   "source": [
    "#### Data Dictionary"
   ]
  },
  {
   "cell_type": "markdown",
   "id": "1e80c3f4",
   "metadata": {},
   "source": [
    "| Variable  | Definition                                 | Key                                             |\n",
    "| :-------- | :------------------------------------------| :-----------------------------------------------|\n",
    "| Survived  | Survival                                   | 0 = No, 1 = Yes                                 |\n",
    "| Pclass    | Ticket class                               | 1 = 1st, 2 = 2nd, 3 = 3rd                       |\n",
    "| Name      | Name of the passenger                      |                                                 |\n",
    "| Sex       | Sex                                        |\t                                               |\n",
    "| Age\t    | Age in years                               |                                                 |\n",
    "| SibSp     | # of siblings / spouses aboard the Titanic | \t                                               |\n",
    "| Parch\t    | # of parents / children aboard the Titanic |                                                 |\n",
    "| Ticket\t| Ticket number                              |                                                 |\n",
    "| Fare\t    | Passenger fare                             |                                                 |\n",
    "| Embarked\t| Port of Embarkation                        | C = Cherbourg, Q = Queenstown, S = Southampton  |\n",
    "| Cabin\t    | Cabin number\t                             |                                                 |"
   ]
  },
  {
   "cell_type": "code",
   "execution_count": 782,
   "id": "d305db43",
   "metadata": {},
   "outputs": [
    {
     "data": {
      "image/png": "[encoded data removed]",
      "text/plain": [
       "<Figure size 720x360 with 1 Axes>"
      ]
     },
     "metadata": {},
     "output_type": "display_data"
    }
   ],
   "source": [
    "# --- Visualize the missing values in the training dataset ---\n",
    "\n",
    "plt.figure(figsize=(10,5))\n",
    "sns.set(font_scale=1.3)\n",
    "sns.heatmap(train.isnull(), yticklabels=False, cmap=\"flare\", cbar=False);"
   ]
  },
  {
   "cell_type": "markdown",
   "id": "b678647f",
   "metadata": {},
   "source": [
    "There are missing values in `Embarked`, `Age` and `Cabin` columns. We need to look into these features later."
   ]
  },
  {
   "cell_type": "code",
   "execution_count": 465,
   "id": "9d75459a",
   "metadata": {},
   "outputs": [
    {
     "data": {
      "text/plain": [
       "PassengerId      0\n",
       "Survived         0\n",
       "Pclass           0\n",
       "Name             0\n",
       "Sex              0\n",
       "Age            177\n",
       "SibSp            0\n",
       "Parch            0\n",
       "Ticket           0\n",
       "Fare             0\n",
       "Cabin          687\n",
       "Embarked         2\n",
       "dtype: int64"
      ]
     },
     "execution_count": 465,
     "metadata": {},
     "output_type": "execute_result"
    }
   ],
   "source": [
    "# --- Calculate the number of missing values of each feature ---\n",
    "\n",
    "train.isna().sum()"
   ]
  },
  {
   "cell_type": "code",
   "execution_count": 9,
   "id": "4383f4ff",
   "metadata": {},
   "outputs": [
    {
     "data": {
      "text/plain": [
       "PassengerId      int64\n",
       "Survived         int64\n",
       "Pclass           int64\n",
       "Name            object\n",
       "Sex             object\n",
       "Age            float64\n",
       "SibSp            int64\n",
       "Parch            int64\n",
       "Ticket          object\n",
       "Fare           float64\n",
       "Cabin           object\n",
       "Embarked        object\n",
       "dtype: object"
      ]
     },
     "execution_count": 9,
     "metadata": {},
     "output_type": "execute_result"
    }
   ],
   "source": [
    "# --- Check the data types ---\n",
    "\n",
    "train.dtypes"
   ]
  },
  {
   "cell_type": "code",
   "execution_count": 10,
   "id": "2edfa995",
   "metadata": {},
   "outputs": [
    {
     "data": {
      "text/html": [
       "<div>\n",
       "<style scoped>\n",
       "    .dataframe tbody tr th:only-of-type {\n",
       "        vertical-align: middle;\n",
       "    }\n",
       "\n",
       "    .dataframe tbody tr th {\n",
       "        vertical-align: top;\n",
       "    }\n",
       "\n",
       "    .dataframe thead th {\n",
       "        text-align: right;\n",
       "    }\n",
       "</style>\n",
       "<table border=\"1\" class=\"dataframe\">\n",
       "  <thead>\n",
       "    <tr style=\"text-align: right;\">\n",
       "      <th></th>\n",
       "      <th>PassengerId</th>\n",
       "      <th>Survived</th>\n",
       "      <th>Pclass</th>\n",
       "      <th>Age</th>\n",
       "      <th>SibSp</th>\n",
       "      <th>Parch</th>\n",
       "      <th>Fare</th>\n",
       "    </tr>\n",
       "  </thead>\n",
       "  <tbody>\n",
       "    <tr>\n",
       "      <th>count</th>\n",
       "      <td>891.000000</td>\n",
       "      <td>891.000000</td>\n",
       "      <td>891.000000</td>\n",
       "      <td>714.000000</td>\n",
       "      <td>891.000000</td>\n",
       "      <td>891.000000</td>\n",
       "      <td>891.000000</td>\n",
       "    </tr>\n",
       "    <tr>\n",
       "      <th>mean</th>\n",
       "      <td>446.000000</td>\n",
       "      <td>0.383838</td>\n",
       "      <td>2.308642</td>\n",
       "      <td>29.699118</td>\n",
       "      <td>0.523008</td>\n",
       "      <td>0.381594</td>\n",
       "      <td>32.204208</td>\n",
       "    </tr>\n",
       "    <tr>\n",
       "      <th>std</th>\n",
       "      <td>257.353842</td>\n",
       "      <td>0.486592</td>\n",
       "      <td>0.836071</td>\n",
       "      <td>14.526497</td>\n",
       "      <td>1.102743</td>\n",
       "      <td>0.806057</td>\n",
       "      <td>49.693429</td>\n",
       "    </tr>\n",
       "    <tr>\n",
       "      <th>min</th>\n",
       "      <td>1.000000</td>\n",
       "      <td>0.000000</td>\n",
       "      <td>1.000000</td>\n",
       "      <td>0.420000</td>\n",
       "      <td>0.000000</td>\n",
       "      <td>0.000000</td>\n",
       "      <td>0.000000</td>\n",
       "    </tr>\n",
       "    <tr>\n",
       "      <th>25%</th>\n",
       "      <td>223.500000</td>\n",
       "      <td>0.000000</td>\n",
       "      <td>2.000000</td>\n",
       "      <td>20.125000</td>\n",
       "      <td>0.000000</td>\n",
       "      <td>0.000000</td>\n",
       "      <td>7.910400</td>\n",
       "    </tr>\n",
       "    <tr>\n",
       "      <th>50%</th>\n",
       "      <td>446.000000</td>\n",
       "      <td>0.000000</td>\n",
       "      <td>3.000000</td>\n",
       "      <td>28.000000</td>\n",
       "      <td>0.000000</td>\n",
       "      <td>0.000000</td>\n",
       "      <td>14.454200</td>\n",
       "    </tr>\n",
       "    <tr>\n",
       "      <th>75%</th>\n",
       "      <td>668.500000</td>\n",
       "      <td>1.000000</td>\n",
       "      <td>3.000000</td>\n",
       "      <td>38.000000</td>\n",
       "      <td>1.000000</td>\n",
       "      <td>0.000000</td>\n",
       "      <td>31.000000</td>\n",
       "    </tr>\n",
       "    <tr>\n",
       "      <th>max</th>\n",
       "      <td>891.000000</td>\n",
       "      <td>1.000000</td>\n",
       "      <td>3.000000</td>\n",
       "      <td>80.000000</td>\n",
       "      <td>8.000000</td>\n",
       "      <td>6.000000</td>\n",
       "      <td>512.329200</td>\n",
       "    </tr>\n",
       "  </tbody>\n",
       "</table>\n",
       "</div>"
      ],
      "text/plain": [
       "       PassengerId    Survived      Pclass         Age       SibSp  \\\n",
       "count   891.000000  891.000000  891.000000  714.000000  891.000000   \n",
       "mean    446.000000    0.383838    2.308642   29.699118    0.523008   \n",
       "std     257.353842    0.486592    0.836071   14.526497    1.102743   \n",
       "min       1.000000    0.000000    1.000000    0.420000    0.000000   \n",
       "25%     223.500000    0.000000    2.000000   20.125000    0.000000   \n",
       "50%     446.000000    0.000000    3.000000   28.000000    0.000000   \n",
       "75%     668.500000    1.000000    3.000000   38.000000    1.000000   \n",
       "max     891.000000    1.000000    3.000000   80.000000    8.000000   \n",
       "\n",
       "            Parch        Fare  \n",
       "count  891.000000  891.000000  \n",
       "mean     0.381594   32.204208  \n",
       "std      0.806057   49.693429  \n",
       "min      0.000000    0.000000  \n",
       "25%      0.000000    7.910400  \n",
       "50%      0.000000   14.454200  \n",
       "75%      0.000000   31.000000  \n",
       "max      6.000000  512.329200  "
      ]
     },
     "execution_count": 10,
     "metadata": {},
     "output_type": "execute_result"
    }
   ],
   "source": [
    "# --- Describe the numerical features ---\n",
    "\n",
    "train.describe()"
   ]
  },
  {
   "cell_type": "code",
   "execution_count": 11,
   "id": "25aa736f",
   "metadata": {},
   "outputs": [
    {
     "data": {
      "text/html": [
       "<div>\n",
       "<style scoped>\n",
       "    .dataframe tbody tr th:only-of-type {\n",
       "        vertical-align: middle;\n",
       "    }\n",
       "\n",
       "    .dataframe tbody tr th {\n",
       "        vertical-align: top;\n",
       "    }\n",
       "\n",
       "    .dataframe thead th {\n",
       "        text-align: right;\n",
       "    }\n",
       "</style>\n",
       "<table border=\"1\" class=\"dataframe\">\n",
       "  <thead>\n",
       "    <tr style=\"text-align: right;\">\n",
       "      <th></th>\n",
       "      <th>Name</th>\n",
       "      <th>Sex</th>\n",
       "      <th>Ticket</th>\n",
       "      <th>Cabin</th>\n",
       "      <th>Embarked</th>\n",
       "    </tr>\n",
       "  </thead>\n",
       "  <tbody>\n",
       "    <tr>\n",
       "      <th>count</th>\n",
       "      <td>891</td>\n",
       "      <td>891</td>\n",
       "      <td>891</td>\n",
       "      <td>204</td>\n",
       "      <td>889</td>\n",
       "    </tr>\n",
       "    <tr>\n",
       "      <th>unique</th>\n",
       "      <td>891</td>\n",
       "      <td>2</td>\n",
       "      <td>681</td>\n",
       "      <td>147</td>\n",
       "      <td>3</td>\n",
       "    </tr>\n",
       "    <tr>\n",
       "      <th>top</th>\n",
       "      <td>Rugg, Miss. Emily</td>\n",
       "      <td>male</td>\n",
       "      <td>347082</td>\n",
       "      <td>G6</td>\n",
       "      <td>S</td>\n",
       "    </tr>\n",
       "    <tr>\n",
       "      <th>freq</th>\n",
       "      <td>1</td>\n",
       "      <td>577</td>\n",
       "      <td>7</td>\n",
       "      <td>4</td>\n",
       "      <td>644</td>\n",
       "    </tr>\n",
       "  </tbody>\n",
       "</table>\n",
       "</div>"
      ],
      "text/plain": [
       "                     Name   Sex  Ticket Cabin Embarked\n",
       "count                 891   891     891   204      889\n",
       "unique                891     2     681   147        3\n",
       "top     Rugg, Miss. Emily  male  347082    G6        S\n",
       "freq                    1   577       7     4      644"
      ]
     },
     "execution_count": 11,
     "metadata": {},
     "output_type": "execute_result"
    }
   ],
   "source": [
    "# --- Describe the categorical features ---\n",
    "\n",
    "train.describe(include=['O'])"
   ]
  },
  {
   "cell_type": "code",
   "execution_count": 12,
   "id": "c2ee0d80",
   "metadata": {},
   "outputs": [],
   "source": [
    "# --- Create new dataframes ---\n",
    "\n",
    "df_bin = pd.DataFrame() # for discretised continous variable\n",
    "df_con = pd.DataFrame() # for continous variables"
   ]
  },
  {
   "cell_type": "markdown",
   "id": "932ddf6f",
   "metadata": {},
   "source": [
    "We need to analyze each feature and then we will use them for our model accordingly."
   ]
  },
  {
   "cell_type": "markdown",
   "id": "85d2438f",
   "metadata": {},
   "source": [
    "## 2.  Preprocessing"
   ]
  },
  {
   "cell_type": "markdown",
   "id": "26be3b04",
   "metadata": {},
   "source": [
    "### 2.1. Feature: Survived"
   ]
  },
  {
   "cell_type": "code",
   "execution_count": 607,
   "id": "6c29a60c",
   "metadata": {},
   "outputs": [
    {
     "data": {
      "text/plain": [
       "0    549\n",
       "1    342\n",
       "Name: Survived, dtype: int64"
      ]
     },
     "execution_count": 607,
     "metadata": {},
     "output_type": "execute_result"
    }
   ],
   "source": [
    "# --- How many people survived? ---\n",
    "\n",
    "train['Survived'].value_counts()"
   ]
  },
  {
   "cell_type": "code",
   "execution_count": 575,
   "id": "64315ea6",
   "metadata": {},
   "outputs": [
    {
     "data": {
      "image/png": "[encoded data removed]",
      "text/plain": [
       "<Figure size 576x288 with 1 Axes>"
      ]
     },
     "metadata": {},
     "output_type": "display_data"
    }
   ],
   "source": [
    "# --- Plot Survived Feature ---\n",
    "\n",
    "df_temp = pd.DataFrame()\n",
    "df_temp['Survived'] = train['Survived']\n",
    "\n",
    "sns.set(font_scale=1.3)\n",
    "sns.set_style(\"whitegrid\")\n",
    "sns.displot(data=df_temp, kind=\"hist\", palette=\"flare\", legend=False,\n",
    "           height=4.0, aspect=2.0, discrete=True, shrink=.1);"
   ]
  },
  {
   "cell_type": "code",
   "execution_count": 15,
   "id": "edbad4e2",
   "metadata": {},
   "outputs": [],
   "source": [
    "# --- Add Survived feature to our dataframes ---\n",
    "\n",
    "df_bin['Survived'] = train['Survived']\n",
    "df_con['Survived'] = train['Survived']"
   ]
  },
  {
   "cell_type": "markdown",
   "id": "21a83d2d",
   "metadata": {},
   "source": [
    "### 2.2. Feature: Pclass"
   ]
  },
  {
   "cell_type": "code",
   "execution_count": 16,
   "id": "05490e5c",
   "metadata": {},
   "outputs": [
    {
     "data": {
      "text/plain": [
       "1    216\n",
       "2    184\n",
       "3    491\n",
       "Name: Pclass, dtype: int64"
      ]
     },
     "execution_count": 16,
     "metadata": {},
     "output_type": "execute_result"
    }
   ],
   "source": [
    "# --- Check the distribution of Pclass ---\n",
    "\n",
    "train['Pclass'].value_counts().sort_index(ascending=True)"
   ]
  },
  {
   "cell_type": "code",
   "execution_count": 664,
   "id": "9b21636d",
   "metadata": {},
   "outputs": [
    {
     "data": {
      "image/png": "[encoded data removed]",
      "text/plain": [
       "<Figure size 576x288 with 1 Axes>"
      ]
     },
     "metadata": {},
     "output_type": "display_data"
    }
   ],
   "source": [
    "# --- Plot the distribution of Pclass ---\n",
    "\n",
    "df_temp = pd.DataFrame()\n",
    "df_temp['Pclass'] = train['Pclass']\n",
    "\n",
    "sns.set(font_scale=1.3)\n",
    "sns.set_style(\"whitegrid\")\n",
    "sns.displot(data=df_temp, kind=\"hist\", palette=\"flare\", legend=False,\n",
    "           height=4.0, aspect=2.0, discrete=True, shrink=.1);\n",
    "plt.xticks([1,2,3],['1','2','3']);"
   ]
  },
  {
   "cell_type": "markdown",
   "id": "efeb51b5",
   "metadata": {},
   "source": [
    "Since `Pclass` is a categorical feature, we need to encode it later. Let's add it to our dataframes for now."
   ]
  },
  {
   "cell_type": "code",
   "execution_count": 19,
   "id": "88721d13",
   "metadata": {},
   "outputs": [],
   "source": [
    "# --- Add Pclass feature to our dataframes ---\n",
    "\n",
    "df_bin['Pclass'] = train['Pclass']\n",
    "df_con['Pclass'] = train['Pclass']"
   ]
  },
  {
   "cell_type": "markdown",
   "id": "ed3de8ae",
   "metadata": {},
   "source": [
    "### 2.3. Feature: Name"
   ]
  },
  {
   "cell_type": "code",
   "execution_count": 20,
   "id": "90202636",
   "metadata": {},
   "outputs": [
    {
     "data": {
      "text/plain": [
       "Rugg, Miss. Emily                   1\n",
       "Sivola, Mr. Antti Wilhelm           1\n",
       "Homer, Mr. Harry (\"Mr E Haven\")     1\n",
       "Silverthorne, Mr. Spencer Victor    1\n",
       "Widener, Mr. Harry Elkins           1\n",
       "                                   ..\n",
       "Graham, Mr. George Edward           1\n",
       "Ali, Mr. Ahmed                      1\n",
       "Abbing, Mr. Anthony                 1\n",
       "Wheadon, Mr. Edward H               1\n",
       "Toomey, Miss. Ellen                 1\n",
       "Name: Name, Length: 891, dtype: int64"
      ]
     },
     "execution_count": 20,
     "metadata": {},
     "output_type": "execute_result"
    }
   ],
   "source": [
    "# --- How many different names do we have? ---\n",
    "\n",
    "train['Name'].value_counts()"
   ]
  },
  {
   "cell_type": "markdown",
   "id": "8505382c",
   "metadata": {},
   "source": [
    "There are **891** unique values in `Name` column. As we can see, passenger names include \"Mr.\", \"Mrs.\", \"Miss\", etc. We can use these abbreviations to create new features. But first, let's make sure if we have only 3 abbreviations or not."
   ]
  },
  {
   "cell_type": "code",
   "execution_count": 1153,
   "id": "4d6f2dad",
   "metadata": {},
   "outputs": [
    {
     "name": "stdout",
     "output_type": "stream",
     "text": [
      "Number of passengers with Mr:       517\n",
      "Number of passengers with Mrs:      125\n",
      "Number of passengers with Miss:     182\n",
      "----------------------------------------\n",
      "Number of remaining passengers:     67\n"
     ]
    }
   ],
   "source": [
    "# --- Calculate the number of rows for each abbreviation ---\n",
    "\n",
    "no_mr = train['Name'].str.contains(' Mr. ', case=False).sum()\n",
    "no_mrs = train['Name'].str.contains(' Mrs.', case=False).sum()\n",
    "no_miss = train['Name'].str.contains(' Miss.', case=False).sum()\n",
    "no_other = train.shape[0] - no_mr - no_mrs - no_miss\n",
    "\n",
    "print(f\"{'Number of passengers with Mr:':<35} {no_mr}\")\n",
    "print(f\"{'Number of passengers with Mrs:':<35} {no_mrs}\")\n",
    "print(f\"{'Number of passengers with Miss:':<35} {no_miss}\")\n",
    "print(f\"{'-' * 40}\")\n",
    "print(f\"{'Number of remaining passengers:':<35} {no_other}\")"
   ]
  },
  {
   "cell_type": "code",
   "execution_count": 1156,
   "id": "54c72ead",
   "metadata": {},
   "outputs": [
    {
     "data": {
      "text/html": [
       "<div>\n",
       "<style scoped>\n",
       "    .dataframe tbody tr th:only-of-type {\n",
       "        vertical-align: middle;\n",
       "    }\n",
       "\n",
       "    .dataframe tbody tr th {\n",
       "        vertical-align: top;\n",
       "    }\n",
       "\n",
       "    .dataframe thead th {\n",
       "        text-align: right;\n",
       "    }\n",
       "</style>\n",
       "<table border=\"1\" class=\"dataframe\">\n",
       "  <thead>\n",
       "    <tr style=\"text-align: right;\">\n",
       "      <th></th>\n",
       "      <th>PassengerId</th>\n",
       "      <th>Name</th>\n",
       "    </tr>\n",
       "  </thead>\n",
       "  <tbody>\n",
       "    <tr>\n",
       "      <th>7</th>\n",
       "      <td>8</td>\n",
       "      <td>Palsson, Master. Gosta Leonard</td>\n",
       "    </tr>\n",
       "    <tr>\n",
       "      <th>16</th>\n",
       "      <td>17</td>\n",
       "      <td>Rice, Master. Eugene</td>\n",
       "    </tr>\n",
       "    <tr>\n",
       "      <th>30</th>\n",
       "      <td>31</td>\n",
       "      <td>Uruchurtu, Don. Manuel E</td>\n",
       "    </tr>\n",
       "    <tr>\n",
       "      <th>50</th>\n",
       "      <td>51</td>\n",
       "      <td>Panula, Master. Juha Niilo</td>\n",
       "    </tr>\n",
       "    <tr>\n",
       "      <th>59</th>\n",
       "      <td>60</td>\n",
       "      <td>Goodwin, Master. William Frederick</td>\n",
       "    </tr>\n",
       "    <tr>\n",
       "      <th>...</th>\n",
       "      <td>...</td>\n",
       "      <td>...</td>\n",
       "    </tr>\n",
       "    <tr>\n",
       "      <th>831</th>\n",
       "      <td>832</td>\n",
       "      <td>Richards, Master. George Sibley</td>\n",
       "    </tr>\n",
       "    <tr>\n",
       "      <th>848</th>\n",
       "      <td>849</td>\n",
       "      <td>Harper, Rev. John</td>\n",
       "    </tr>\n",
       "    <tr>\n",
       "      <th>850</th>\n",
       "      <td>851</td>\n",
       "      <td>Andersson, Master. Sigvard Harald Elias</td>\n",
       "    </tr>\n",
       "    <tr>\n",
       "      <th>869</th>\n",
       "      <td>870</td>\n",
       "      <td>Johnson, Master. Harold Theodor</td>\n",
       "    </tr>\n",
       "    <tr>\n",
       "      <th>886</th>\n",
       "      <td>887</td>\n",
       "      <td>Montvila, Rev. Juozas</td>\n",
       "    </tr>\n",
       "  </tbody>\n",
       "</table>\n",
       "<p>67 rows × 2 columns</p>\n",
       "</div>"
      ],
      "text/plain": [
       "     PassengerId                                     Name\n",
       "7              8           Palsson, Master. Gosta Leonard\n",
       "16            17                     Rice, Master. Eugene\n",
       "30            31                 Uruchurtu, Don. Manuel E\n",
       "50            51               Panula, Master. Juha Niilo\n",
       "59            60       Goodwin, Master. William Frederick\n",
       "..           ...                                      ...\n",
       "831          832          Richards, Master. George Sibley\n",
       "848          849                        Harper, Rev. John\n",
       "850          851  Andersson, Master. Sigvard Harald Elias\n",
       "869          870          Johnson, Master. Harold Theodor\n",
       "886          887                    Montvila, Rev. Juozas\n",
       "\n",
       "[67 rows x 2 columns]"
      ]
     },
     "execution_count": 1156,
     "metadata": {},
     "output_type": "execute_result"
    }
   ],
   "source": [
    "# --- List the remaining 67 passengers ---\n",
    "\n",
    "df = train.loc[(train['Name'].str.contains(' Mr. ', case=False) == False) & \n",
    "               (train['Name'].str.contains(' Mrs. ', case=False) == False) & \n",
    "               (train['Name'].str.contains(' Miss. ', case=False) == False)]\n",
    "\n",
    "df[['PassengerId', 'Name']]"
   ]
  },
  {
   "cell_type": "code",
   "execution_count": 1157,
   "id": "ce347770",
   "metadata": {},
   "outputs": [],
   "source": [
    "# --- Increase the max_rows and max_colwitdh values to be able to see all rows and columns properly ---\n",
    "\n",
    "pd.set_option(\"max_rows\", None)\n",
    "pd.set_option(\"max_colwidth\", None)"
   ]
  },
  {
   "cell_type": "code",
   "execution_count": 1158,
   "id": "3bf1ce19",
   "metadata": {},
   "outputs": [
    {
     "data": {
      "text/html": [
       "<div>\n",
       "<style scoped>\n",
       "    .dataframe tbody tr th:only-of-type {\n",
       "        vertical-align: middle;\n",
       "    }\n",
       "\n",
       "    .dataframe tbody tr th {\n",
       "        vertical-align: top;\n",
       "    }\n",
       "\n",
       "    .dataframe thead th {\n",
       "        text-align: right;\n",
       "    }\n",
       "</style>\n",
       "<table border=\"1\" class=\"dataframe\">\n",
       "  <thead>\n",
       "    <tr style=\"text-align: right;\">\n",
       "      <th></th>\n",
       "      <th>PassengerId</th>\n",
       "      <th>Survived</th>\n",
       "      <th>Name</th>\n",
       "      <th>Sex</th>\n",
       "    </tr>\n",
       "  </thead>\n",
       "  <tbody>\n",
       "    <tr>\n",
       "      <th>710</th>\n",
       "      <td>711</td>\n",
       "      <td>1</td>\n",
       "      <td>Mayne, Mlle. Berthe Antonine (\"Mrs de Villiers\")</td>\n",
       "      <td>female</td>\n",
       "    </tr>\n",
       "    <tr>\n",
       "      <th>443</th>\n",
       "      <td>444</td>\n",
       "      <td>1</td>\n",
       "      <td>Reynaldo, Ms. Encarnacion</td>\n",
       "      <td>female</td>\n",
       "    </tr>\n",
       "    <tr>\n",
       "      <th>759</th>\n",
       "      <td>760</td>\n",
       "      <td>1</td>\n",
       "      <td>Rothes, the Countess. of (Lucy Noel Martha Dyer-Edwards)</td>\n",
       "      <td>female</td>\n",
       "    </tr>\n",
       "    <tr>\n",
       "      <th>556</th>\n",
       "      <td>557</td>\n",
       "      <td>1</td>\n",
       "      <td>Duff Gordon, Lady. (Lucille Christiana Sutherland) (\"Mrs Morgan\")</td>\n",
       "      <td>female</td>\n",
       "    </tr>\n",
       "    <tr>\n",
       "      <th>369</th>\n",
       "      <td>370</td>\n",
       "      <td>1</td>\n",
       "      <td>Aubart, Mme. Leontine Pauline</td>\n",
       "      <td>female</td>\n",
       "    </tr>\n",
       "    <tr>\n",
       "      <th>796</th>\n",
       "      <td>797</td>\n",
       "      <td>1</td>\n",
       "      <td>Leader, Dr. Alice (Farnham)</td>\n",
       "      <td>female</td>\n",
       "    </tr>\n",
       "    <tr>\n",
       "      <th>641</th>\n",
       "      <td>642</td>\n",
       "      <td>1</td>\n",
       "      <td>Sagesser, Mlle. Emma</td>\n",
       "      <td>female</td>\n",
       "    </tr>\n",
       "    <tr>\n",
       "      <th>694</th>\n",
       "      <td>695</td>\n",
       "      <td>0</td>\n",
       "      <td>Weir, Col. John</td>\n",
       "      <td>male</td>\n",
       "    </tr>\n",
       "    <tr>\n",
       "      <th>660</th>\n",
       "      <td>661</td>\n",
       "      <td>1</td>\n",
       "      <td>Frauenthal, Dr. Henry William</td>\n",
       "      <td>male</td>\n",
       "    </tr>\n",
       "    <tr>\n",
       "      <th>647</th>\n",
       "      <td>648</td>\n",
       "      <td>1</td>\n",
       "      <td>Simonius-Blumer, Col. Oberst Alfons</td>\n",
       "      <td>male</td>\n",
       "    </tr>\n",
       "    <tr>\n",
       "      <th>7</th>\n",
       "      <td>8</td>\n",
       "      <td>0</td>\n",
       "      <td>Palsson, Master. Gosta Leonard</td>\n",
       "      <td>male</td>\n",
       "    </tr>\n",
       "    <tr>\n",
       "      <th>626</th>\n",
       "      <td>627</td>\n",
       "      <td>0</td>\n",
       "      <td>Kirkland, Rev. Charles Leonard</td>\n",
       "      <td>male</td>\n",
       "    </tr>\n",
       "    <tr>\n",
       "      <th>599</th>\n",
       "      <td>600</td>\n",
       "      <td>1</td>\n",
       "      <td>Duff Gordon, Sir. Cosmo Edmund (\"Mr Morgan\")</td>\n",
       "      <td>male</td>\n",
       "    </tr>\n",
       "    <tr>\n",
       "      <th>549</th>\n",
       "      <td>550</td>\n",
       "      <td>1</td>\n",
       "      <td>Davies, Master. John Morgan Jr</td>\n",
       "      <td>male</td>\n",
       "    </tr>\n",
       "    <tr>\n",
       "      <th>536</th>\n",
       "      <td>537</td>\n",
       "      <td>0</td>\n",
       "      <td>Butt, Major. Archibald Willingham</td>\n",
       "      <td>male</td>\n",
       "    </tr>\n",
       "    <tr>\n",
       "      <th>709</th>\n",
       "      <td>710</td>\n",
       "      <td>1</td>\n",
       "      <td>Moubarek, Master. Halim Gonios (\"William George\")</td>\n",
       "      <td>male</td>\n",
       "    </tr>\n",
       "    <tr>\n",
       "      <th>632</th>\n",
       "      <td>633</td>\n",
       "      <td>1</td>\n",
       "      <td>Stahelin-Maeglin, Dr. Max</td>\n",
       "      <td>male</td>\n",
       "    </tr>\n",
       "    <tr>\n",
       "      <th>751</th>\n",
       "      <td>752</td>\n",
       "      <td>1</td>\n",
       "      <td>Moor, Master. Meier</td>\n",
       "      <td>male</td>\n",
       "    </tr>\n",
       "    <tr>\n",
       "      <th>489</th>\n",
       "      <td>490</td>\n",
       "      <td>1</td>\n",
       "      <td>Coutts, Master. Eden Leslie \"Neville\"</td>\n",
       "      <td>male</td>\n",
       "    </tr>\n",
       "    <tr>\n",
       "      <th>755</th>\n",
       "      <td>756</td>\n",
       "      <td>1</td>\n",
       "      <td>Hamalainen, Master. Viljo</td>\n",
       "      <td>male</td>\n",
       "    </tr>\n",
       "    <tr>\n",
       "      <th>766</th>\n",
       "      <td>767</td>\n",
       "      <td>0</td>\n",
       "      <td>Brewe, Dr. Arthur Jackson</td>\n",
       "      <td>male</td>\n",
       "    </tr>\n",
       "    <tr>\n",
       "      <th>787</th>\n",
       "      <td>788</td>\n",
       "      <td>0</td>\n",
       "      <td>Rice, Master. George Hugh</td>\n",
       "      <td>male</td>\n",
       "    </tr>\n",
       "    <tr>\n",
       "      <th>788</th>\n",
       "      <td>789</td>\n",
       "      <td>1</td>\n",
       "      <td>Dean, Master. Bertram Vere</td>\n",
       "      <td>male</td>\n",
       "    </tr>\n",
       "    <tr>\n",
       "      <th>802</th>\n",
       "      <td>803</td>\n",
       "      <td>1</td>\n",
       "      <td>Carter, Master. William Thornton II</td>\n",
       "      <td>male</td>\n",
       "    </tr>\n",
       "    <tr>\n",
       "      <th>803</th>\n",
       "      <td>804</td>\n",
       "      <td>1</td>\n",
       "      <td>Thomas, Master. Assad Alexander</td>\n",
       "      <td>male</td>\n",
       "    </tr>\n",
       "    <tr>\n",
       "      <th>819</th>\n",
       "      <td>820</td>\n",
       "      <td>0</td>\n",
       "      <td>Skoog, Master. Karl Thorsten</td>\n",
       "      <td>male</td>\n",
       "    </tr>\n",
       "    <tr>\n",
       "      <th>822</th>\n",
       "      <td>823</td>\n",
       "      <td>0</td>\n",
       "      <td>Reuchlin, Jonkheer. John George</td>\n",
       "      <td>male</td>\n",
       "    </tr>\n",
       "    <tr>\n",
       "      <th>824</th>\n",
       "      <td>825</td>\n",
       "      <td>0</td>\n",
       "      <td>Panula, Master. Urho Abraham</td>\n",
       "      <td>male</td>\n",
       "    </tr>\n",
       "    <tr>\n",
       "      <th>827</th>\n",
       "      <td>828</td>\n",
       "      <td>1</td>\n",
       "      <td>Mallet, Master. Andre</td>\n",
       "      <td>male</td>\n",
       "    </tr>\n",
       "    <tr>\n",
       "      <th>831</th>\n",
       "      <td>832</td>\n",
       "      <td>1</td>\n",
       "      <td>Richards, Master. George Sibley</td>\n",
       "      <td>male</td>\n",
       "    </tr>\n",
       "    <tr>\n",
       "      <th>848</th>\n",
       "      <td>849</td>\n",
       "      <td>0</td>\n",
       "      <td>Harper, Rev. John</td>\n",
       "      <td>male</td>\n",
       "    </tr>\n",
       "    <tr>\n",
       "      <th>850</th>\n",
       "      <td>851</td>\n",
       "      <td>0</td>\n",
       "      <td>Andersson, Master. Sigvard Harald Elias</td>\n",
       "      <td>male</td>\n",
       "    </tr>\n",
       "    <tr>\n",
       "      <th>745</th>\n",
       "      <td>746</td>\n",
       "      <td>0</td>\n",
       "      <td>Crosby, Capt. Edward Gifford</td>\n",
       "      <td>male</td>\n",
       "    </tr>\n",
       "    <tr>\n",
       "      <th>480</th>\n",
       "      <td>481</td>\n",
       "      <td>0</td>\n",
       "      <td>Goodwin, Master. Harold Victor</td>\n",
       "      <td>male</td>\n",
       "    </tr>\n",
       "    <tr>\n",
       "      <th>449</th>\n",
       "      <td>450</td>\n",
       "      <td>1</td>\n",
       "      <td>Peuchen, Major. Arthur Godfrey</td>\n",
       "      <td>male</td>\n",
       "    </tr>\n",
       "    <tr>\n",
       "      <th>445</th>\n",
       "      <td>446</td>\n",
       "      <td>1</td>\n",
       "      <td>Dodge, Master. Washington</td>\n",
       "      <td>male</td>\n",
       "    </tr>\n",
       "    <tr>\n",
       "      <th>16</th>\n",
       "      <td>17</td>\n",
       "      <td>0</td>\n",
       "      <td>Rice, Master. Eugene</td>\n",
       "      <td>male</td>\n",
       "    </tr>\n",
       "    <tr>\n",
       "      <th>30</th>\n",
       "      <td>31</td>\n",
       "      <td>0</td>\n",
       "      <td>Uruchurtu, Don. Manuel E</td>\n",
       "      <td>male</td>\n",
       "    </tr>\n",
       "    <tr>\n",
       "      <th>50</th>\n",
       "      <td>51</td>\n",
       "      <td>0</td>\n",
       "      <td>Panula, Master. Juha Niilo</td>\n",
       "      <td>male</td>\n",
       "    </tr>\n",
       "    <tr>\n",
       "      <th>59</th>\n",
       "      <td>60</td>\n",
       "      <td>0</td>\n",
       "      <td>Goodwin, Master. William Frederick</td>\n",
       "      <td>male</td>\n",
       "    </tr>\n",
       "    <tr>\n",
       "      <th>63</th>\n",
       "      <td>64</td>\n",
       "      <td>0</td>\n",
       "      <td>Skoog, Master. Harald</td>\n",
       "      <td>male</td>\n",
       "    </tr>\n",
       "    <tr>\n",
       "      <th>65</th>\n",
       "      <td>66</td>\n",
       "      <td>1</td>\n",
       "      <td>Moubarek, Master. Gerios</td>\n",
       "      <td>male</td>\n",
       "    </tr>\n",
       "    <tr>\n",
       "      <th>78</th>\n",
       "      <td>79</td>\n",
       "      <td>1</td>\n",
       "      <td>Caldwell, Master. Alden Gates</td>\n",
       "      <td>male</td>\n",
       "    </tr>\n",
       "    <tr>\n",
       "      <th>125</th>\n",
       "      <td>126</td>\n",
       "      <td>1</td>\n",
       "      <td>Nicola-Yarred, Master. Elias</td>\n",
       "      <td>male</td>\n",
       "    </tr>\n",
       "    <tr>\n",
       "      <th>149</th>\n",
       "      <td>150</td>\n",
       "      <td>0</td>\n",
       "      <td>Byles, Rev. Thomas Roussel Davids</td>\n",
       "      <td>male</td>\n",
       "    </tr>\n",
       "    <tr>\n",
       "      <th>150</th>\n",
       "      <td>151</td>\n",
       "      <td>0</td>\n",
       "      <td>Bateman, Rev. Robert James</td>\n",
       "      <td>male</td>\n",
       "    </tr>\n",
       "    <tr>\n",
       "      <th>159</th>\n",
       "      <td>160</td>\n",
       "      <td>0</td>\n",
       "      <td>Sage, Master. Thomas Henry</td>\n",
       "      <td>male</td>\n",
       "    </tr>\n",
       "    <tr>\n",
       "      <th>164</th>\n",
       "      <td>165</td>\n",
       "      <td>0</td>\n",
       "      <td>Panula, Master. Eino Viljami</td>\n",
       "      <td>male</td>\n",
       "    </tr>\n",
       "    <tr>\n",
       "      <th>165</th>\n",
       "      <td>166</td>\n",
       "      <td>1</td>\n",
       "      <td>Goldsmith, Master. Frank John William \"Frankie\"</td>\n",
       "      <td>male</td>\n",
       "    </tr>\n",
       "    <tr>\n",
       "      <th>171</th>\n",
       "      <td>172</td>\n",
       "      <td>0</td>\n",
       "      <td>Rice, Master. Arthur</td>\n",
       "      <td>male</td>\n",
       "    </tr>\n",
       "    <tr>\n",
       "      <th>176</th>\n",
       "      <td>177</td>\n",
       "      <td>0</td>\n",
       "      <td>Lefebre, Master. Henry Forbes</td>\n",
       "      <td>male</td>\n",
       "    </tr>\n",
       "    <tr>\n",
       "      <th>182</th>\n",
       "      <td>183</td>\n",
       "      <td>0</td>\n",
       "      <td>Asplund, Master. Clarence Gustaf Hugo</td>\n",
       "      <td>male</td>\n",
       "    </tr>\n",
       "    <tr>\n",
       "      <th>183</th>\n",
       "      <td>184</td>\n",
       "      <td>1</td>\n",
       "      <td>Becker, Master. Richard F</td>\n",
       "      <td>male</td>\n",
       "    </tr>\n",
       "    <tr>\n",
       "      <th>193</th>\n",
       "      <td>194</td>\n",
       "      <td>1</td>\n",
       "      <td>Navratil, Master. Michel M</td>\n",
       "      <td>male</td>\n",
       "    </tr>\n",
       "    <tr>\n",
       "      <th>245</th>\n",
       "      <td>246</td>\n",
       "      <td>0</td>\n",
       "      <td>Minahan, Dr. William Edward</td>\n",
       "      <td>male</td>\n",
       "    </tr>\n",
       "    <tr>\n",
       "      <th>249</th>\n",
       "      <td>250</td>\n",
       "      <td>0</td>\n",
       "      <td>Carter, Rev. Ernest Courtenay</td>\n",
       "      <td>male</td>\n",
       "    </tr>\n",
       "    <tr>\n",
       "      <th>261</th>\n",
       "      <td>262</td>\n",
       "      <td>1</td>\n",
       "      <td>Asplund, Master. Edvin Rojj Felix</td>\n",
       "      <td>male</td>\n",
       "    </tr>\n",
       "    <tr>\n",
       "      <th>278</th>\n",
       "      <td>279</td>\n",
       "      <td>0</td>\n",
       "      <td>Rice, Master. Eric</td>\n",
       "      <td>male</td>\n",
       "    </tr>\n",
       "    <tr>\n",
       "      <th>305</th>\n",
       "      <td>306</td>\n",
       "      <td>1</td>\n",
       "      <td>Allison, Master. Hudson Trevor</td>\n",
       "      <td>male</td>\n",
       "    </tr>\n",
       "    <tr>\n",
       "      <th>317</th>\n",
       "      <td>318</td>\n",
       "      <td>0</td>\n",
       "      <td>Moraweck, Dr. Ernest</td>\n",
       "      <td>male</td>\n",
       "    </tr>\n",
       "    <tr>\n",
       "      <th>340</th>\n",
       "      <td>341</td>\n",
       "      <td>1</td>\n",
       "      <td>Navratil, Master. Edmond Roger</td>\n",
       "      <td>male</td>\n",
       "    </tr>\n",
       "    <tr>\n",
       "      <th>348</th>\n",
       "      <td>349</td>\n",
       "      <td>1</td>\n",
       "      <td>Coutts, Master. William Loch \"William\"</td>\n",
       "      <td>male</td>\n",
       "    </tr>\n",
       "    <tr>\n",
       "      <th>386</th>\n",
       "      <td>387</td>\n",
       "      <td>0</td>\n",
       "      <td>Goodwin, Master. Sidney Leonard</td>\n",
       "      <td>male</td>\n",
       "    </tr>\n",
       "    <tr>\n",
       "      <th>398</th>\n",
       "      <td>399</td>\n",
       "      <td>0</td>\n",
       "      <td>Pain, Dr. Alfred</td>\n",
       "      <td>male</td>\n",
       "    </tr>\n",
       "    <tr>\n",
       "      <th>407</th>\n",
       "      <td>408</td>\n",
       "      <td>1</td>\n",
       "      <td>Richards, Master. William Rowe</td>\n",
       "      <td>male</td>\n",
       "    </tr>\n",
       "    <tr>\n",
       "      <th>869</th>\n",
       "      <td>870</td>\n",
       "      <td>1</td>\n",
       "      <td>Johnson, Master. Harold Theodor</td>\n",
       "      <td>male</td>\n",
       "    </tr>\n",
       "    <tr>\n",
       "      <th>886</th>\n",
       "      <td>887</td>\n",
       "      <td>0</td>\n",
       "      <td>Montvila, Rev. Juozas</td>\n",
       "      <td>male</td>\n",
       "    </tr>\n",
       "  </tbody>\n",
       "</table>\n",
       "</div>"
      ],
      "text/plain": [
       "     PassengerId  Survived  \\\n",
       "710          711         1   \n",
       "443          444         1   \n",
       "759          760         1   \n",
       "556          557         1   \n",
       "369          370         1   \n",
       "796          797         1   \n",
       "641          642         1   \n",
       "694          695         0   \n",
       "660          661         1   \n",
       "647          648         1   \n",
       "7              8         0   \n",
       "626          627         0   \n",
       "599          600         1   \n",
       "549          550         1   \n",
       "536          537         0   \n",
       "709          710         1   \n",
       "632          633         1   \n",
       "751          752         1   \n",
       "489          490         1   \n",
       "755          756         1   \n",
       "766          767         0   \n",
       "787          788         0   \n",
       "788          789         1   \n",
       "802          803         1   \n",
       "803          804         1   \n",
       "819          820         0   \n",
       "822          823         0   \n",
       "824          825         0   \n",
       "827          828         1   \n",
       "831          832         1   \n",
       "848          849         0   \n",
       "850          851         0   \n",
       "745          746         0   \n",
       "480          481         0   \n",
       "449          450         1   \n",
       "445          446         1   \n",
       "16            17         0   \n",
       "30            31         0   \n",
       "50            51         0   \n",
       "59            60         0   \n",
       "63            64         0   \n",
       "65            66         1   \n",
       "78            79         1   \n",
       "125          126         1   \n",
       "149          150         0   \n",
       "150          151         0   \n",
       "159          160         0   \n",
       "164          165         0   \n",
       "165          166         1   \n",
       "171          172         0   \n",
       "176          177         0   \n",
       "182          183         0   \n",
       "183          184         1   \n",
       "193          194         1   \n",
       "245          246         0   \n",
       "249          250         0   \n",
       "261          262         1   \n",
       "278          279         0   \n",
       "305          306         1   \n",
       "317          318         0   \n",
       "340          341         1   \n",
       "348          349         1   \n",
       "386          387         0   \n",
       "398          399         0   \n",
       "407          408         1   \n",
       "869          870         1   \n",
       "886          887         0   \n",
       "\n",
       "                                                                  Name     Sex  \n",
       "710                   Mayne, Mlle. Berthe Antonine (\"Mrs de Villiers\")  female  \n",
       "443                                          Reynaldo, Ms. Encarnacion  female  \n",
       "759           Rothes, the Countess. of (Lucy Noel Martha Dyer-Edwards)  female  \n",
       "556  Duff Gordon, Lady. (Lucille Christiana Sutherland) (\"Mrs Morgan\")  female  \n",
       "369                                      Aubart, Mme. Leontine Pauline  female  \n",
       "796                                        Leader, Dr. Alice (Farnham)  female  \n",
       "641                                               Sagesser, Mlle. Emma  female  \n",
       "694                                                    Weir, Col. John    male  \n",
       "660                                      Frauenthal, Dr. Henry William    male  \n",
       "647                                Simonius-Blumer, Col. Oberst Alfons    male  \n",
       "7                                       Palsson, Master. Gosta Leonard    male  \n",
       "626                                     Kirkland, Rev. Charles Leonard    male  \n",
       "599                       Duff Gordon, Sir. Cosmo Edmund (\"Mr Morgan\")    male  \n",
       "549                                     Davies, Master. John Morgan Jr    male  \n",
       "536                                  Butt, Major. Archibald Willingham    male  \n",
       "709                  Moubarek, Master. Halim Gonios (\"William George\")    male  \n",
       "632                                          Stahelin-Maeglin, Dr. Max    male  \n",
       "751                                                Moor, Master. Meier    male  \n",
       "489                              Coutts, Master. Eden Leslie \"Neville\"    male  \n",
       "755                                          Hamalainen, Master. Viljo    male  \n",
       "766                                          Brewe, Dr. Arthur Jackson    male  \n",
       "787                                          Rice, Master. George Hugh    male  \n",
       "788                                         Dean, Master. Bertram Vere    male  \n",
       "802                                Carter, Master. William Thornton II    male  \n",
       "803                                    Thomas, Master. Assad Alexander    male  \n",
       "819                                       Skoog, Master. Karl Thorsten    male  \n",
       "822                                    Reuchlin, Jonkheer. John George    male  \n",
       "824                                       Panula, Master. Urho Abraham    male  \n",
       "827                                              Mallet, Master. Andre    male  \n",
       "831                                    Richards, Master. George Sibley    male  \n",
       "848                                                  Harper, Rev. John    male  \n",
       "850                            Andersson, Master. Sigvard Harald Elias    male  \n",
       "745                                       Crosby, Capt. Edward Gifford    male  \n",
       "480                                     Goodwin, Master. Harold Victor    male  \n",
       "449                                     Peuchen, Major. Arthur Godfrey    male  \n",
       "445                                          Dodge, Master. Washington    male  \n",
       "16                                                Rice, Master. Eugene    male  \n",
       "30                                            Uruchurtu, Don. Manuel E    male  \n",
       "50                                          Panula, Master. Juha Niilo    male  \n",
       "59                                  Goodwin, Master. William Frederick    male  \n",
       "63                                               Skoog, Master. Harald    male  \n",
       "65                                            Moubarek, Master. Gerios    male  \n",
       "78                                       Caldwell, Master. Alden Gates    male  \n",
       "125                                       Nicola-Yarred, Master. Elias    male  \n",
       "149                                  Byles, Rev. Thomas Roussel Davids    male  \n",
       "150                                         Bateman, Rev. Robert James    male  \n",
       "159                                         Sage, Master. Thomas Henry    male  \n",
       "164                                       Panula, Master. Eino Viljami    male  \n",
       "165                    Goldsmith, Master. Frank John William \"Frankie\"    male  \n",
       "171                                               Rice, Master. Arthur    male  \n",
       "176                                      Lefebre, Master. Henry Forbes    male  \n",
       "182                              Asplund, Master. Clarence Gustaf Hugo    male  \n",
       "183                                          Becker, Master. Richard F    male  \n",
       "193                                         Navratil, Master. Michel M    male  \n",
       "245                                        Minahan, Dr. William Edward    male  \n",
       "249                                      Carter, Rev. Ernest Courtenay    male  \n",
       "261                                  Asplund, Master. Edvin Rojj Felix    male  \n",
       "278                                                 Rice, Master. Eric    male  \n",
       "305                                     Allison, Master. Hudson Trevor    male  \n",
       "317                                               Moraweck, Dr. Ernest    male  \n",
       "340                                     Navratil, Master. Edmond Roger    male  \n",
       "348                             Coutts, Master. William Loch \"William\"    male  \n",
       "386                                    Goodwin, Master. Sidney Leonard    male  \n",
       "398                                                   Pain, Dr. Alfred    male  \n",
       "407                                     Richards, Master. William Rowe    male  \n",
       "869                                    Johnson, Master. Harold Theodor    male  \n",
       "886                                              Montvila, Rev. Juozas    male  "
      ]
     },
     "execution_count": 1158,
     "metadata": {},
     "output_type": "execute_result"
    }
   ],
   "source": [
    "df[['PassengerId', 'Survived', 'Name', 'Sex']].sort_values('Sex')"
   ]
  },
  {
   "cell_type": "markdown",
   "id": "a49978a9",
   "metadata": {},
   "source": [
    "My observations:\n",
    "- Most of the \"Master\"s seem survived. Maybe they have higher priority during the evacuation , so we can use it as a seperate feature.\n",
    "- There are male passengers without an abbreviation, so we need to fix those.\n",
    "- There are female passengers without an abbreviation, so we need to fix those."
   ]
  },
  {
   "cell_type": "code",
   "execution_count": 1159,
   "id": "b74cacfd",
   "metadata": {},
   "outputs": [],
   "source": [
    "# --- Fix the female names ---\n",
    "\n",
    "train.loc[710, 'Name'] = 'Mayne, Mlle. Berthe Antonine (\\\" Mrs. de Villiers \\\")'\n",
    "train.loc[443, 'Name'] = 'Reynaldo, Miss. Encarnacion' # Ms = Miss\n",
    "train.loc[759, 'Name'] = 'Rothes, Mrs. the Countess. of (Lucy Noel Martha Dyer-Edwards)'\n",
    "train.loc[556, 'Name'] = 'Duff Gordon, Lady. (Lucille Christiana Sutherland) (\\\" Mrs. Morgan\\ \")'\n",
    "train.loc[369, 'Name'] = 'Aubart, Mrs. Leontine Pauline' # Mme = Mrs\n",
    "train.loc[796, 'Name'] = 'Leader, Mrs. Dr. Alice (Farnham)'\n",
    "train.loc[641, 'Name'] = 'Sagesser, Miss. Emma' # Mlle = Miss"
   ]
  },
  {
   "cell_type": "code",
   "execution_count": 1160,
   "id": "72f62a5e",
   "metadata": {},
   "outputs": [],
   "source": [
    "# --- Fix the male names who are not 'Master' ---\n",
    "\n",
    "train.loc[(train['Sex'] == 'male') & \n",
    "          (~train['Name'].str.contains(' Mr. ', case=False)) &\n",
    "          (~train['Name'].str.contains('Master', case=False)), 'Name'] = train['Name'].astype(str) + ' Mr. '"
   ]
  },
  {
   "cell_type": "code",
   "execution_count": 1161,
   "id": "66de966d",
   "metadata": {},
   "outputs": [
    {
     "name": "stdout",
     "output_type": "stream",
     "text": [
      "Number of passengers with Mr:       537\n",
      "Number of passengers with Mrs:      130\n",
      "Number of passengers with Miss:     184\n",
      "Number of passengers with Master:   40\n",
      "----------------------------------------\n",
      "Number of remaining passengers:     0\n"
     ]
    }
   ],
   "source": [
    "# --- Now all the names have one abbreviation ---\n",
    "\n",
    "no_mr = train['Name'].str.contains(' Mr. ', case=False).sum()\n",
    "no_mrs = train['Name'].str.contains(' Mrs.', case=False).sum()\n",
    "no_miss = train['Name'].str.contains(' Miss.', case=False).sum()\n",
    "no_master = train['Name'].str.contains('Master', case=False).sum()\n",
    "no_other = train.shape[0] - no_mr - no_mrs - no_miss - no_master\n",
    "\n",
    "print(f\"{'Number of passengers with Mr:':<35} {no_mr}\")\n",
    "print(f\"{'Number of passengers with Mrs:':<35} {no_mrs}\")\n",
    "print(f\"{'Number of passengers with Miss:':<35} {no_miss}\")\n",
    "print(f\"{'Number of passengers with Master:':<35} {no_master}\")\n",
    "print(f\"{'-' * 40}\")\n",
    "print(f\"{'Number of remaining passengers:':<35} {no_other}\")\n"
   ]
  },
  {
   "cell_type": "code",
   "execution_count": 1155,
   "id": "ee67ab1c",
   "metadata": {},
   "outputs": [],
   "source": [
    "# --- Set the max_rows and max_colwitdh values to default again ---\n",
    "\n",
    "pd.set_option(\"max_rows\", 60)\n",
    "pd.set_option(\"max_colwidth\", 50)"
   ]
  },
  {
   "cell_type": "code",
   "execution_count": 31,
   "id": "5af6153a",
   "metadata": {},
   "outputs": [],
   "source": [
    "# --- Add Name features to our dataframes ---\n",
    "\n",
    "df_bin['Name'] = train['Name']\n",
    "df_con['Name'] = train['Name']"
   ]
  },
  {
   "cell_type": "markdown",
   "id": "05d5fea2",
   "metadata": {},
   "source": [
    "### 2.4. Feature: Sex"
   ]
  },
  {
   "cell_type": "code",
   "execution_count": 606,
   "id": "ad4607d4",
   "metadata": {},
   "outputs": [
    {
     "data": {
      "text/plain": [
       "male      577\n",
       "female    314\n",
       "Name: Sex, dtype: int64"
      ]
     },
     "execution_count": 606,
     "metadata": {},
     "output_type": "execute_result"
    }
   ],
   "source": [
    "# --- How many males/female do we have? ---\n",
    "\n",
    "train['Sex'].value_counts()"
   ]
  },
  {
   "cell_type": "markdown",
   "id": "3ec5bb97",
   "metadata": {},
   "source": [
    "The number of male passengers are more than females. Let's check the survival rate of both genders."
   ]
  },
  {
   "cell_type": "code",
   "execution_count": 589,
   "id": "1c9675e0",
   "metadata": {},
   "outputs": [],
   "source": [
    "# --- Create a temporary dataframe for visualization ---\n",
    "\n",
    "df_temp = pd.DataFrame()\n",
    "df_temp['Survived'] = train['Survived']\n",
    "df_temp['Sex'] = train['Sex']\n",
    "df_temp['Sex'] = np.where(df_temp['Sex'] == 'female', 1, 0) # Set 1 for female and 0 for male"
   ]
  },
  {
   "cell_type": "code",
   "execution_count": 598,
   "id": "f4b354c3",
   "metadata": {},
   "outputs": [
    {
     "data": {
      "image/png": "[encoded data removed]",
      "text/plain": [
       "<Figure size 635.48x288 with 1 Axes>"
      ]
     },
     "metadata": {},
     "output_type": "display_data"
    }
   ],
   "source": [
    "# --- Plot the relationship between 'Survived' and 'Sex' ---\n",
    "\n",
    "sns.set(font_scale=1.3)\n",
    "sns.set_style(\"whitegrid\")\n",
    "sns.displot(data=df_temp, x=\"Survived\", kind=\"hist\", hue=\"Sex\", multiple=\"dodge\", palette=\"flare\", \n",
    "            height=4.0, aspect=2.0, discrete=True, shrink=.2);\n",
    "plt.xticks([0,1],['No','Yes']);"
   ]
  },
  {
   "cell_type": "markdown",
   "id": "11b8d708",
   "metadata": {},
   "source": [
    "It seems most of the females survived but unfortunately most of the males died."
   ]
  },
  {
   "cell_type": "code",
   "execution_count": 356,
   "id": "e8d1bc76",
   "metadata": {},
   "outputs": [],
   "source": [
    "# --- Add Sex feature to our dataframes ---\n",
    "\n",
    "df_bin['Sex'] = train['Sex']\n",
    "df_con['Sex'] = train['Sex']"
   ]
  },
  {
   "cell_type": "markdown",
   "id": "a82018c5",
   "metadata": {},
   "source": [
    "### 2.5. Feature: Age"
   ]
  },
  {
   "cell_type": "code",
   "execution_count": 425,
   "id": "9655c665",
   "metadata": {},
   "outputs": [
    {
     "data": {
      "text/plain": [
       "177"
      ]
     },
     "execution_count": 425,
     "metadata": {},
     "output_type": "execute_result"
    }
   ],
   "source": [
    "# --- Calculate the number of missing Age values ---\n",
    "\n",
    "train.Age.isnull().sum()"
   ]
  },
  {
   "cell_type": "code",
   "execution_count": 457,
   "id": "0fd1538b",
   "metadata": {},
   "outputs": [
    {
     "name": "stdout",
     "output_type": "stream",
     "text": [
      "[ 0.42  0.67  0.75  0.83  0.92  1.    2.    3.    4.    5.    6.    7.\n",
      "  8.    9.   10.   11.   12.   13.   14.   14.5  15.   16.   17.   18.\n",
      " 19.   20.   20.5  21.   22.   23.   23.5  24.   24.5  25.   26.   27.\n",
      " 28.   28.5  29.   30.   30.5  31.   32.   32.5  33.   34.   34.5  35.\n",
      " 36.   36.5  37.   38.   39.   40.   40.5  41.   42.   43.   44.   45.\n",
      " 45.5  46.   47.   48.   49.   50.   51.   52.   53.   54.   55.   55.5\n",
      " 56.   57.   58.   59.   60.   61.   62.   63.   64.   65.   66.   70.\n",
      " 70.5  71.   74.   80.     nan]\n"
     ]
    }
   ],
   "source": [
    "# --- Check the unique values and sort them ---\n",
    "\n",
    "df_temp = pd.DataFrame()\n",
    "df_temp = train['Age'].unique()\n",
    "df_temp.sort()\n",
    "print(df_temp)"
   ]
  },
  {
   "cell_type": "markdown",
   "id": "d504a942",
   "metadata": {},
   "source": [
    "There are values lower than 1 which is not possible. Let's fix this."
   ]
  },
  {
   "cell_type": "code",
   "execution_count": 458,
   "id": "35c72261",
   "metadata": {},
   "outputs": [],
   "source": [
    "# --- Multiply the values which are lower than 1 by 100 ---\n",
    "\n",
    "train.loc[(train['Age'] < 1), 'Age'] = train['Age'] * 100"
   ]
  },
  {
   "cell_type": "markdown",
   "id": "3db40d99",
   "metadata": {},
   "source": [
    "There are also NaN values to be filled. We can use the average to fill in."
   ]
  },
  {
   "cell_type": "code",
   "execution_count": null,
   "id": "88b76913",
   "metadata": {},
   "outputs": [],
   "source": [
    "# --- Calculate the mean of age feature and fill the missing values with mean ---\n",
    "\n",
    "mean_age = int(train['Age'].mean())\n",
    "train['Age'].fillna(mean_age, inplace=True)"
   ]
  },
  {
   "cell_type": "code",
   "execution_count": 505,
   "id": "c147e527",
   "metadata": {},
   "outputs": [],
   "source": [
    "# --- Add Age feature to our dataframes ---\n",
    "\n",
    "df_bin['Age'] = train['Age']\n",
    "df_con['Age'] = train['Age']"
   ]
  },
  {
   "cell_type": "markdown",
   "id": "a6e22d22",
   "metadata": {},
   "source": [
    "### 2.6. Feature: SibSp"
   ]
  },
  {
   "cell_type": "code",
   "execution_count": 605,
   "id": "78c8e809",
   "metadata": {},
   "outputs": [
    {
     "data": {
      "text/plain": [
       "0    608\n",
       "1    209\n",
       "2     28\n",
       "4     18\n",
       "3     16\n",
       "8      7\n",
       "5      5\n",
       "Name: SibSp, dtype: int64"
      ]
     },
     "execution_count": 605,
     "metadata": {},
     "output_type": "execute_result"
    }
   ],
   "source": [
    "# --- How many SipSp values do we have? ---\n",
    "\n",
    "train['SibSp'].value_counts()"
   ]
  },
  {
   "cell_type": "code",
   "execution_count": 744,
   "id": "9f2f2ea2",
   "metadata": {},
   "outputs": [
    {
     "data": {
      "image/png": "[encoded data removed]",
      "text/plain": [
       "<Figure size 635.48x288 with 1 Axes>"
      ]
     },
     "metadata": {},
     "output_type": "display_data"
    }
   ],
   "source": [
    "# --- Plot the relationship between 'Survived' and 'SibSp' ---\n",
    "\n",
    "sns.set(font_scale=1.3)\n",
    "sns.set_style(\"whitegrid\")\n",
    "sns.displot(data=train, x=\"Survived\", kind=\"hist\", hue=\"SibSp\", multiple=\"stack\", palette=\"flare\", \n",
    "            height=4.0, aspect=2.0, discrete=True, shrink=0.1)\n",
    "plt.xticks([0,1],['No','Yes']);"
   ]
  },
  {
   "cell_type": "markdown",
   "id": "406e4ca5",
   "metadata": {},
   "source": [
    "It looks like the less number of siblings passengers have, the more chance they have to survive."
   ]
  },
  {
   "cell_type": "code",
   "execution_count": 577,
   "id": "b0c09a05",
   "metadata": {},
   "outputs": [],
   "source": [
    "# --- Add SibSp feature to our dataframes ---\n",
    "\n",
    "df_bin['SibSp'] = train['SibSp']\n",
    "df_con['SibSp'] = train['SibSp']"
   ]
  },
  {
   "cell_type": "markdown",
   "id": "c4a13d02",
   "metadata": {},
   "source": [
    "### 2.7. Feature: Parch"
   ]
  },
  {
   "cell_type": "code",
   "execution_count": 604,
   "id": "8c02ff8d",
   "metadata": {},
   "outputs": [
    {
     "data": {
      "text/plain": [
       "0    678\n",
       "1    118\n",
       "2     80\n",
       "3      5\n",
       "5      5\n",
       "4      4\n",
       "6      1\n",
       "Name: Parch, dtype: int64"
      ]
     },
     "execution_count": 604,
     "metadata": {},
     "output_type": "execute_result"
    }
   ],
   "source": [
    "# --- How many Parch values do we have? ---\n",
    "\n",
    "train['Parch'].value_counts()"
   ]
  },
  {
   "cell_type": "code",
   "execution_count": 772,
   "id": "80c09a9a",
   "metadata": {},
   "outputs": [
    {
     "data": {
      "image/png": "[encoded data removed]",
      "text/plain": [
       "<Figure size 635.48x288 with 1 Axes>"
      ]
     },
     "metadata": {},
     "output_type": "display_data"
    }
   ],
   "source": [
    "# --- Plot the relationship between 'Survived' and 'SibSp' ---\n",
    "\n",
    "sns.set(font_scale=1.3)\n",
    "sns.set_style(\"whitegrid\")\n",
    "sns.displot(data=train, x=\"Survived\", kind=\"hist\", hue=\"Parch\", multiple=\"stack\", palette=\"flare\", \n",
    "            height=4.0, aspect=2.0, discrete=True, shrink=0.1)\n",
    "plt.xticks([0,1],['No','Yes']);"
   ]
  },
  {
   "cell_type": "markdown",
   "id": "088d8e34",
   "metadata": {},
   "source": [
    "It looks like the less number of parents/children passengers have, the more chance they have to survive."
   ]
  },
  {
   "cell_type": "code",
   "execution_count": 610,
   "id": "f98557b0",
   "metadata": {},
   "outputs": [],
   "source": [
    "# --- Add Parch feature to our dataframes ---\n",
    "\n",
    "df_bin['Parch'] = train['Parch']\n",
    "df_con['Parch'] = train['Parch']"
   ]
  },
  {
   "cell_type": "markdown",
   "id": "25dc5315",
   "metadata": {},
   "source": [
    "### 2.8. Feature: Ticket"
   ]
  },
  {
   "cell_type": "code",
   "execution_count": 681,
   "id": "70663ab4",
   "metadata": {},
   "outputs": [
    {
     "data": {
      "text/plain": [
       "347082             7\n",
       "1601               7\n",
       "CA. 2343           7\n",
       "347088             6\n",
       "CA 2144            6\n",
       "                  ..\n",
       "A/5 3594           1\n",
       "244358             1\n",
       "A/5 21174          1\n",
       "SOTON/OQ 392090    1\n",
       "237671             1\n",
       "Name: Ticket, Length: 681, dtype: int64"
      ]
     },
     "execution_count": 681,
     "metadata": {},
     "output_type": "execute_result"
    }
   ],
   "source": [
    "# --- How many Ticket values do we have? ---\n",
    "\n",
    "train['Ticket'].value_counts()"
   ]
  },
  {
   "cell_type": "markdown",
   "id": "2e5ad7fc",
   "metadata": {},
   "source": [
    "There are **681** unique values but ticket number does not seem useful to me. So let's discard this feature."
   ]
  },
  {
   "cell_type": "markdown",
   "id": "f5c8a8b9",
   "metadata": {},
   "source": [
    "### 2.9. Feature: Fare"
   ]
  },
  {
   "cell_type": "code",
   "execution_count": 709,
   "id": "670d6608",
   "metadata": {},
   "outputs": [
    {
     "name": "stdout",
     "output_type": "stream",
     "text": [
      "[  0.       4.0125   5.       6.2375   6.4375   6.45     6.4958   6.75\n",
      "   6.8583   6.95     6.975    7.0458   7.05     7.0542   7.125    7.1417\n",
      "   7.225    7.2292   7.25     7.3125   7.4958   7.5208   7.55     7.6292\n",
      "   7.65     7.725    7.7292   7.7333   7.7375   7.7417   7.75     7.775\n",
      "   7.7875   7.7958   7.8      7.8292   7.8542   7.875    7.8792   7.8875\n",
      "   7.8958   7.925    8.0292   8.05     8.1125   8.1375   8.1583   8.3\n",
      "   8.3625   8.4042   8.4333   8.4583   8.5167   8.6542   8.6625   8.6833\n",
      "   8.7125   8.85     9.       9.2167   9.225    9.35     9.475    9.4833\n",
      "   9.5      9.5875   9.825    9.8375   9.8417   9.8458  10.1708  10.4625\n",
      "  10.5     10.5167  11.1333  11.2417  11.5     12.      12.275   12.2875\n",
      "  12.35    12.475   12.525   12.65    12.875   13.      13.4167  13.5\n",
      "  13.7917  13.8583  13.8625  14.      14.1083  14.4     14.4542  14.4583\n",
      "  14.5     15.      15.0458  15.05    15.1     15.2458  15.5     15.55\n",
      "  15.7417  15.75    15.85    15.9     16.      16.1     16.7     17.4\n",
      "  17.8     18.      18.75    18.7875  19.2583  19.5     19.9667  20.2125\n",
      "  20.25    20.525   20.575   21.      21.075   21.6792  22.025   22.3583\n",
      "  22.525   23.      23.25    23.45    24.      24.15    25.4667  25.5875\n",
      "  25.925   25.9292  26.      26.25    26.2833  26.2875  26.3875  26.55\n",
      "  27.      27.7208  27.75    27.9     28.5     28.7125  29.      29.125\n",
      "  29.7     30.      30.0708  30.5     30.6958  31.      31.275   31.3875\n",
      "  32.3208  32.5     33.      33.5     34.0208  34.375   34.6542  35.\n",
      "  35.5     36.75    37.0042  38.5     39.      39.4     39.6     39.6875\n",
      "  40.125   41.5792  42.4     46.9     47.1     49.5     49.5042  50.\n",
      "  50.4958  51.4792  51.8625  52.      52.5542  53.1     55.      55.4417\n",
      "  55.9     56.4958  56.9292  57.      57.9792  59.4     61.175   61.3792\n",
      "  61.9792  63.3583  65.      66.6     69.3     69.55    71.      71.2833\n",
      "  73.5     75.25    76.2917  76.7292  77.2875  77.9583  78.2667  78.85\n",
      "  79.2     79.65    80.      81.8583  82.1708  83.1583  83.475   86.5\n",
      "  89.1042  90.      91.0792  93.5    106.425  108.9    110.8833 113.275\n",
      " 120.     133.65   134.5    135.6333 146.5208 151.55   153.4625 164.8667\n",
      " 211.3375 211.5    221.7792 227.525  247.5208 262.375  263.     512.3292]\n"
     ]
    }
   ],
   "source": [
    "# --- Check the unique values and sort them ---\n",
    "\n",
    "df_temp = pd.DataFrame()\n",
    "df_temp = train['Fare'].unique()\n",
    "df_temp.sort()\n",
    "print(df_temp)"
   ]
  },
  {
   "cell_type": "markdown",
   "id": "d8aac86d",
   "metadata": {},
   "source": [
    "So the range of the Fare values is 0 - 512 (but most of them are less than 100)."
   ]
  },
  {
   "cell_type": "code",
   "execution_count": 771,
   "id": "53f334b5",
   "metadata": {},
   "outputs": [
    {
     "data": {
      "image/png": "[encoded data removed]",
      "text/plain": [
       "<Figure size 1224.07x288 with 2 Axes>"
      ]
     },
     "metadata": {},
     "output_type": "display_data"
    }
   ],
   "source": [
    "# --- Plot the relationship between 'Survived' and 'Fare' ---\n",
    "\n",
    "sns.set(font_scale=1.3)\n",
    "sns.set_style(\"whitegrid\")\n",
    "sns.displot(data=train, x=\"Fare\", kind=\"kde\", hue=\"Survived\", col=\"Survived\", multiple=\"stack\", palette=\"flare\", rug=True,\n",
    "            height=4.0, aspect=2.0);"
   ]
  },
  {
   "cell_type": "code",
   "execution_count": 773,
   "id": "bb12413f",
   "metadata": {},
   "outputs": [],
   "source": [
    "# --- Add Fare feature to our dataframes ---\n",
    "\n",
    "df_bin['Fare'] = train['Fare']\n",
    "df_con['Fare'] = train['Fare']"
   ]
  },
  {
   "cell_type": "markdown",
   "id": "55678c40",
   "metadata": {},
   "source": [
    "### 2.9. Feature: Embarked"
   ]
  },
  {
   "cell_type": "code",
   "execution_count": 791,
   "id": "76a3088e",
   "metadata": {},
   "outputs": [
    {
     "data": {
      "text/plain": [
       "2"
      ]
     },
     "execution_count": 791,
     "metadata": {},
     "output_type": "execute_result"
    }
   ],
   "source": [
    "# --- Calculate the number of missing Embarked values ---\n",
    "\n",
    "train.Embarked.isnull().sum()"
   ]
  },
  {
   "cell_type": "code",
   "execution_count": 797,
   "id": "3a7ec465",
   "metadata": {},
   "outputs": [
    {
     "data": {
      "text/plain": [
       "S    644\n",
       "C    168\n",
       "Q     77\n",
       "Name: Embarked, dtype: int64"
      ]
     },
     "execution_count": 797,
     "metadata": {},
     "output_type": "execute_result"
    }
   ],
   "source": [
    "# --- How many Embarked values do we have? ---\n",
    "\n",
    "train['Embarked'].value_counts()"
   ]
  },
  {
   "cell_type": "code",
   "execution_count": 798,
   "id": "1212f294",
   "metadata": {},
   "outputs": [],
   "source": [
    "# --- Fill the missing values with 'S' which is the most frequent one ---\n",
    "\n",
    "train['Embarked'].fillna(\"S\", inplace=True)"
   ]
  },
  {
   "cell_type": "code",
   "execution_count": 800,
   "id": "61e6859a",
   "metadata": {},
   "outputs": [],
   "source": [
    "# --- Add Embarked feature to our dataframes ---\n",
    "\n",
    "df_bin['Embarked'] = train['Embarked']\n",
    "df_con['Embarked'] = train['Embarked']"
   ]
  },
  {
   "cell_type": "markdown",
   "id": "d512a629",
   "metadata": {},
   "source": [
    "### 2.10. Feature: Cabin"
   ]
  },
  {
   "cell_type": "code",
   "execution_count": 784,
   "id": "ce371c94",
   "metadata": {},
   "outputs": [
    {
     "data": {
      "text/plain": [
       "687"
      ]
     },
     "execution_count": 784,
     "metadata": {},
     "output_type": "execute_result"
    }
   ],
   "source": [
    "# --- Calculate the number of missing Cabin values ---\n",
    "\n",
    "train.Cabin.isnull().sum()"
   ]
  },
  {
   "cell_type": "markdown",
   "id": "2255fe86",
   "metadata": {},
   "source": [
    "There are **687** missing values for Cabin so i2S better not to use this feature for prediction."
   ]
  },
  {
   "cell_type": "markdown",
   "id": "43043eae",
   "metadata": {},
   "source": [
    "## 3.  Feature Encoding"
   ]
  },
  {
   "cell_type": "markdown",
   "id": "d98a2cf6",
   "metadata": {},
   "source": [
    "Now, we have 2 different dataframes:\n",
    "\n",
    "* df_bin &#8594; for discretised continous variable / binned\n",
    "* df_con &#8594; for continous variables"
   ]
  },
  {
   "cell_type": "code",
   "execution_count": 1128,
   "id": "a9ff411d",
   "metadata": {},
   "outputs": [
    {
     "data": {
      "text/html": [
       "<div>\n",
       "<style scoped>\n",
       "    .dataframe tbody tr th:only-of-type {\n",
       "        vertical-align: middle;\n",
       "    }\n",
       "\n",
       "    .dataframe tbody tr th {\n",
       "        vertical-align: top;\n",
       "    }\n",
       "\n",
       "    .dataframe thead th {\n",
       "        text-align: right;\n",
       "    }\n",
       "</style>\n",
       "<table border=\"1\" class=\"dataframe\">\n",
       "  <thead>\n",
       "    <tr style=\"text-align: right;\">\n",
       "      <th></th>\n",
       "      <th>Survived</th>\n",
       "      <th>Pclass</th>\n",
       "      <th>Name</th>\n",
       "      <th>Sex</th>\n",
       "      <th>Age</th>\n",
       "      <th>SibSp</th>\n",
       "      <th>Parch</th>\n",
       "      <th>Fare</th>\n",
       "      <th>Embarked</th>\n",
       "    </tr>\n",
       "  </thead>\n",
       "  <tbody>\n",
       "    <tr>\n",
       "      <th>0</th>\n",
       "      <td>0</td>\n",
       "      <td>3</td>\n",
       "      <td>Braund, Mr. Owen Harris</td>\n",
       "      <td>male</td>\n",
       "      <td>22.0</td>\n",
       "      <td>1</td>\n",
       "      <td>0</td>\n",
       "      <td>7.2500</td>\n",
       "      <td>S</td>\n",
       "    </tr>\n",
       "    <tr>\n",
       "      <th>1</th>\n",
       "      <td>1</td>\n",
       "      <td>1</td>\n",
       "      <td>Cumings, Mrs. John Bradley (Florence Briggs Th...</td>\n",
       "      <td>female</td>\n",
       "      <td>38.0</td>\n",
       "      <td>1</td>\n",
       "      <td>0</td>\n",
       "      <td>71.2833</td>\n",
       "      <td>C</td>\n",
       "    </tr>\n",
       "    <tr>\n",
       "      <th>2</th>\n",
       "      <td>1</td>\n",
       "      <td>3</td>\n",
       "      <td>Heikkinen, Miss. Laina</td>\n",
       "      <td>female</td>\n",
       "      <td>26.0</td>\n",
       "      <td>0</td>\n",
       "      <td>0</td>\n",
       "      <td>7.9250</td>\n",
       "      <td>S</td>\n",
       "    </tr>\n",
       "    <tr>\n",
       "      <th>3</th>\n",
       "      <td>1</td>\n",
       "      <td>1</td>\n",
       "      <td>Futrelle, Mrs. Jacques Heath (Lily May Peel)</td>\n",
       "      <td>female</td>\n",
       "      <td>35.0</td>\n",
       "      <td>1</td>\n",
       "      <td>0</td>\n",
       "      <td>53.1000</td>\n",
       "      <td>S</td>\n",
       "    </tr>\n",
       "    <tr>\n",
       "      <th>4</th>\n",
       "      <td>0</td>\n",
       "      <td>3</td>\n",
       "      <td>Allen, Mr. William Henry</td>\n",
       "      <td>male</td>\n",
       "      <td>35.0</td>\n",
       "      <td>0</td>\n",
       "      <td>0</td>\n",
       "      <td>8.0500</td>\n",
       "      <td>S</td>\n",
       "    </tr>\n",
       "  </tbody>\n",
       "</table>\n",
       "</div>"
      ],
      "text/plain": [
       "   Survived  Pclass                                               Name  \\\n",
       "0         0       3                            Braund, Mr. Owen Harris   \n",
       "1         1       1  Cumings, Mrs. John Bradley (Florence Briggs Th...   \n",
       "2         1       3                             Heikkinen, Miss. Laina   \n",
       "3         1       1       Futrelle, Mrs. Jacques Heath (Lily May Peel)   \n",
       "4         0       3                           Allen, Mr. William Henry   \n",
       "\n",
       "      Sex   Age  SibSp  Parch     Fare Embarked  \n",
       "0    male  22.0      1      0   7.2500        S  \n",
       "1  female  38.0      1      0  71.2833        C  \n",
       "2  female  26.0      0      0   7.9250        S  \n",
       "3  female  35.0      1      0  53.1000        S  \n",
       "4    male  35.0      0      0   8.0500        S  "
      ]
     },
     "execution_count": 1128,
     "metadata": {},
     "output_type": "execute_result"
    }
   ],
   "source": [
    "df_bin.head()"
   ]
  },
  {
   "cell_type": "code",
   "execution_count": 1130,
   "id": "3d7049fb",
   "metadata": {
    "scrolled": false
   },
   "outputs": [
    {
     "data": {
      "text/html": [
       "<div>\n",
       "<style scoped>\n",
       "    .dataframe tbody tr th:only-of-type {\n",
       "        vertical-align: middle;\n",
       "    }\n",
       "\n",
       "    .dataframe tbody tr th {\n",
       "        vertical-align: top;\n",
       "    }\n",
       "\n",
       "    .dataframe thead th {\n",
       "        text-align: right;\n",
       "    }\n",
       "</style>\n",
       "<table border=\"1\" class=\"dataframe\">\n",
       "  <thead>\n",
       "    <tr style=\"text-align: right;\">\n",
       "      <th></th>\n",
       "      <th>Survived</th>\n",
       "      <th>Pclass</th>\n",
       "      <th>Name</th>\n",
       "      <th>Sex</th>\n",
       "      <th>Age</th>\n",
       "      <th>SibSp</th>\n",
       "      <th>Parch</th>\n",
       "      <th>Fare</th>\n",
       "      <th>Embarked</th>\n",
       "    </tr>\n",
       "  </thead>\n",
       "  <tbody>\n",
       "    <tr>\n",
       "      <th>0</th>\n",
       "      <td>0</td>\n",
       "      <td>3</td>\n",
       "      <td>Braund, Mr. Owen Harris</td>\n",
       "      <td>male</td>\n",
       "      <td>22.0</td>\n",
       "      <td>1</td>\n",
       "      <td>0</td>\n",
       "      <td>7.2500</td>\n",
       "      <td>S</td>\n",
       "    </tr>\n",
       "    <tr>\n",
       "      <th>1</th>\n",
       "      <td>1</td>\n",
       "      <td>1</td>\n",
       "      <td>Cumings, Mrs. John Bradley (Florence Briggs Th...</td>\n",
       "      <td>female</td>\n",
       "      <td>38.0</td>\n",
       "      <td>1</td>\n",
       "      <td>0</td>\n",
       "      <td>71.2833</td>\n",
       "      <td>C</td>\n",
       "    </tr>\n",
       "    <tr>\n",
       "      <th>2</th>\n",
       "      <td>1</td>\n",
       "      <td>3</td>\n",
       "      <td>Heikkinen, Miss. Laina</td>\n",
       "      <td>female</td>\n",
       "      <td>26.0</td>\n",
       "      <td>0</td>\n",
       "      <td>0</td>\n",
       "      <td>7.9250</td>\n",
       "      <td>S</td>\n",
       "    </tr>\n",
       "    <tr>\n",
       "      <th>3</th>\n",
       "      <td>1</td>\n",
       "      <td>1</td>\n",
       "      <td>Futrelle, Mrs. Jacques Heath (Lily May Peel)</td>\n",
       "      <td>female</td>\n",
       "      <td>35.0</td>\n",
       "      <td>1</td>\n",
       "      <td>0</td>\n",
       "      <td>53.1000</td>\n",
       "      <td>S</td>\n",
       "    </tr>\n",
       "    <tr>\n",
       "      <th>4</th>\n",
       "      <td>0</td>\n",
       "      <td>3</td>\n",
       "      <td>Allen, Mr. William Henry</td>\n",
       "      <td>male</td>\n",
       "      <td>35.0</td>\n",
       "      <td>0</td>\n",
       "      <td>0</td>\n",
       "      <td>8.0500</td>\n",
       "      <td>S</td>\n",
       "    </tr>\n",
       "  </tbody>\n",
       "</table>\n",
       "</div>"
      ],
      "text/plain": [
       "   Survived  Pclass                                               Name  \\\n",
       "0         0       3                            Braund, Mr. Owen Harris   \n",
       "1         1       1  Cumings, Mrs. John Bradley (Florence Briggs Th...   \n",
       "2         1       3                             Heikkinen, Miss. Laina   \n",
       "3         1       1       Futrelle, Mrs. Jacques Heath (Lily May Peel)   \n",
       "4         0       3                           Allen, Mr. William Henry   \n",
       "\n",
       "      Sex   Age  SibSp  Parch     Fare Embarked  \n",
       "0    male  22.0      1      0   7.2500        S  \n",
       "1  female  38.0      1      0  71.2833        C  \n",
       "2  female  26.0      0      0   7.9250        S  \n",
       "3  female  35.0      1      0  53.1000        S  \n",
       "4    male  35.0      0      0   8.0500        S  "
      ]
     },
     "execution_count": 1130,
     "metadata": {},
     "output_type": "execute_result"
    }
   ],
   "source": [
    "df_con.head()"
   ]
  },
  {
   "cell_type": "markdown",
   "id": "52b11363",
   "metadata": {},
   "source": [
    "Both of these dataframes are now identical but we will encode them accordingly."
   ]
  },
  {
   "cell_type": "markdown",
   "id": "363bbdce",
   "metadata": {},
   "source": [
    "### 3.1. Encoding"
   ]
  },
  {
   "cell_type": "code",
   "execution_count": 1022,
   "id": "8c5f6e34",
   "metadata": {},
   "outputs": [],
   "source": [
    "# --- Create a new dataframe ---\n",
    "\n",
    "df_bin_encoded = pd.DataFrame()"
   ]
  },
  {
   "cell_type": "markdown",
   "id": "5e8b8510",
   "metadata": {},
   "source": [
    "#### 3.1.1. Encoding: Survived"
   ]
  },
  {
   "cell_type": "markdown",
   "id": "16c23d59",
   "metadata": {},
   "source": [
    "Since `Survived` feature includes only 0s and 1s, we don't need to encode it. "
   ]
  },
  {
   "cell_type": "code",
   "execution_count": 1023,
   "id": "6e5409c7",
   "metadata": {},
   "outputs": [],
   "source": [
    "# --- Add Survived feature to encoded dataframe ---\n",
    "\n",
    "df_bin_encoded = pd.concat([df_bin_encoded, df_bin['Survived']], axis=1)\n",
    "df_bin_encoded = df_bin_encoded.astype(int)"
   ]
  },
  {
   "cell_type": "markdown",
   "id": "71a9cbf8",
   "metadata": {},
   "source": [
    "#### 3.1.2. Encoding: Pclass"
   ]
  },
  {
   "cell_type": "code",
   "execution_count": 1025,
   "id": "b6205c63",
   "metadata": {},
   "outputs": [],
   "source": [
    "# --- Encode Pclass feature ---\n",
    "\n",
    "Pclass_encoded = pd.get_dummies(df_bin['Pclass'], prefix='Pclass')"
   ]
  },
  {
   "cell_type": "code",
   "execution_count": 1026,
   "id": "db1207b4",
   "metadata": {},
   "outputs": [],
   "source": [
    "# --- Add Pclass feature to encoded dataframe ---\n",
    "\n",
    "df_bin_encoded = pd.concat([df_bin_encoded, Pclass_encoded], axis=1)"
   ]
  },
  {
   "cell_type": "markdown",
   "id": "b809dfd9",
   "metadata": {},
   "source": [
    "#### 3.1.3. Encoding: Name"
   ]
  },
  {
   "cell_type": "markdown",
   "id": "96a33b5e",
   "metadata": {},
   "source": [
    "We will encode `Name` feature according to abbreviations **Mr.**, **Mrs.**, **Miss.** and **Master**."
   ]
  },
  {
   "cell_type": "code",
   "execution_count": 1029,
   "id": "a32076f6",
   "metadata": {},
   "outputs": [],
   "source": [
    "# --- Now, let's create new columns for each abbreviation ---\n",
    "\n",
    "Name_encoded = pd.DataFrame()\n",
    "Name_encoded['Abbr_Mr'] = df_bin['Name'].apply(lambda x: 1 if ' Mr. ' in x else 0)\n",
    "Name_encoded['Abbr_Mrs'] = df_bin['Name'].apply(lambda x: 1 if ' Mrs.' in x else 0)\n",
    "Name_encoded['Abbr_Miss'] = df_bin['Name'].apply(lambda x: 1 if ' Miss.' in x else 0)\n",
    "Name_encoded['Abbr_Master'] = df_bin['Name'].apply(lambda x: 1 if 'Master' in x else 0)"
   ]
  },
  {
   "cell_type": "code",
   "execution_count": 1030,
   "id": "9a3d3c94",
   "metadata": {},
   "outputs": [],
   "source": [
    "# --- Add Name feature to encoded dataframe ---\n",
    "\n",
    "df_bin_encoded = pd.concat([df_bin_encoded, Name_encoded], axis=1)"
   ]
  },
  {
   "cell_type": "markdown",
   "id": "34755bf9",
   "metadata": {},
   "source": [
    "#### 3.1.4. Encoding: Sex"
   ]
  },
  {
   "cell_type": "code",
   "execution_count": 1032,
   "id": "ca2374de",
   "metadata": {},
   "outputs": [],
   "source": [
    "# --- Encode Sex feature ---\n",
    "\n",
    "Sex_encoded = pd.get_dummies(df_bin['Sex'], prefix='Sex')"
   ]
  },
  {
   "cell_type": "code",
   "execution_count": 1033,
   "id": "ef30aa02",
   "metadata": {},
   "outputs": [],
   "source": [
    "# --- Add Sex feature to encoded dataframe ---\n",
    "\n",
    "df_bin_encoded = pd.concat([df_bin_encoded, Sex_encoded], axis=1)"
   ]
  },
  {
   "cell_type": "markdown",
   "id": "b976625a",
   "metadata": {},
   "source": [
    "#### 3.1.5. Encoding: Age"
   ]
  },
  {
   "cell_type": "markdown",
   "id": "6f7d28c8",
   "metadata": {},
   "source": [
    "We will encode `Age` feature with binning."
   ]
  },
  {
   "cell_type": "code",
   "execution_count": 1037,
   "id": "40413dc6",
   "metadata": {},
   "outputs": [],
   "source": [
    "# --- Binning for Age feature ---\n",
    "\n",
    "df_temp = pd.DataFrame()\n",
    "bin_list = [0, 10, 20, 30, 40, 50, 60, 70, 80, 90, 100]\n",
    "label_list = ['A', 'B', 'C', 'D', 'E', 'F', 'G', 'H', 'I', 'J']\n",
    "df_temp['Age_bin'] = pd.cut(df_bin['Age'], bins=bin_list, labels=label_list)"
   ]
  },
  {
   "cell_type": "code",
   "execution_count": 1039,
   "id": "ed13f85a",
   "metadata": {},
   "outputs": [],
   "source": [
    "# --- Encode Age feature ---\n",
    "\n",
    "age_encoded = pd.get_dummies(df_temp['Age_bin'], prefix='Age')"
   ]
  },
  {
   "cell_type": "code",
   "execution_count": 1041,
   "id": "676ec511",
   "metadata": {},
   "outputs": [],
   "source": [
    "# --- Add Age feature to encoded dataframe ---\n",
    "\n",
    "df_bin_encoded = pd.concat([df_bin_encoded, age_encoded], axis=1)"
   ]
  },
  {
   "cell_type": "markdown",
   "id": "73fcd8bb",
   "metadata": {},
   "source": [
    "#### 3.1.6. Encoding: SibSp"
   ]
  },
  {
   "cell_type": "code",
   "execution_count": 1217,
   "id": "956d532b",
   "metadata": {},
   "outputs": [],
   "source": [
    "# --- Encode SibSp feature ---\n",
    "\n",
    "SibSp_encoded = pd.get_dummies(df_bin['SibSp'], prefix='SibSp')"
   ]
  },
  {
   "cell_type": "code",
   "execution_count": 1218,
   "id": "1bd7cd42",
   "metadata": {},
   "outputs": [],
   "source": [
    "# --- Add SibSp feature to encoded dataframe ---\n",
    "\n",
    "df_bin_encoded = pd.concat([df_bin_encoded, SibSp_encoded], axis=1)"
   ]
  },
  {
   "cell_type": "markdown",
   "id": "0cd531e2",
   "metadata": {},
   "source": [
    "#### 3.1.7. Encoding: Parch"
   ]
  },
  {
   "cell_type": "code",
   "execution_count": 1050,
   "id": "766851c9",
   "metadata": {},
   "outputs": [],
   "source": [
    "# --- Encode Parch feature ---\n",
    "\n",
    "Parch_encoded = pd.get_dummies(df_bin['Parch'], prefix='Parch')"
   ]
  },
  {
   "cell_type": "code",
   "execution_count": 1051,
   "id": "69a59e7b",
   "metadata": {},
   "outputs": [],
   "source": [
    "# --- Add SibSp feature to encoded dataframe ---\n",
    "\n",
    "df_bin_encoded = pd.concat([df_bin_encoded, Parch_encoded], axis=1)"
   ]
  },
  {
   "cell_type": "markdown",
   "id": "05d43ec5",
   "metadata": {},
   "source": [
    "#### 3.1.8. Encoding: Fare"
   ]
  },
  {
   "cell_type": "markdown",
   "id": "92cb1037",
   "metadata": {},
   "source": [
    "We will encode `Fare` feature with binning."
   ]
  },
  {
   "cell_type": "code",
   "execution_count": 1054,
   "id": "76c394e2",
   "metadata": {},
   "outputs": [],
   "source": [
    "# --- Encode Fare feature ---\n",
    "\n",
    "df_temp = pd.DataFrame()\n",
    "bin_list = [0, 25, 50, 75, 100, 150, 200, 300, 400, 500, 600]\n",
    "label_list = ['A', 'B', 'C', 'D', 'E', 'F', 'G', 'H', 'I', 'J']\n",
    "df_temp['Fare_bin'] = pd.cut(df_bin['Fare'], bins=bin_list, labels=label_list)"
   ]
  },
  {
   "cell_type": "code",
   "execution_count": 1060,
   "id": "efc80147",
   "metadata": {},
   "outputs": [],
   "source": [
    "# --- Encode Fare feature ---\n",
    "\n",
    "Fare_encoded = pd.get_dummies(df_temp['Fare_bin'], prefix='Fare')"
   ]
  },
  {
   "cell_type": "code",
   "execution_count": 1061,
   "id": "ecb4a0d1",
   "metadata": {},
   "outputs": [],
   "source": [
    "# --- Add Fare feature to encoded dataframe ---\n",
    "\n",
    "df_bin_encoded = pd.concat([df_bin_encoded, Fare_encoded], axis=1)"
   ]
  },
  {
   "cell_type": "markdown",
   "id": "38a43419",
   "metadata": {},
   "source": [
    "#### 3.1.9. Encoding: Embarked"
   ]
  },
  {
   "cell_type": "code",
   "execution_count": 1064,
   "id": "64a8f249",
   "metadata": {},
   "outputs": [],
   "source": [
    "# --- Encode Embarked feature ---\n",
    "\n",
    "Embarked_encoded = pd.get_dummies(df_bin['Embarked'], prefix='Embarked')"
   ]
  },
  {
   "cell_type": "code",
   "execution_count": 1066,
   "id": "f1a3b023",
   "metadata": {},
   "outputs": [],
   "source": [
    "# --- Add Embarked feature to encoded dataframe ---\n",
    "\n",
    "df_bin_encoded = pd.concat([df_bin_encoded, Embarked_encoded], axis=1)"
   ]
  },
  {
   "cell_type": "markdown",
   "id": "8e07f7b8",
   "metadata": {},
   "source": [
    "## 4.  Machine Learning Models"
   ]
  },
  {
   "cell_type": "markdown",
   "id": "1091e945",
   "metadata": {},
   "source": [
    "This is our encoded dataframe. We need to split this dataframe into data and labels."
   ]
  },
  {
   "cell_type": "code",
   "execution_count": 1221,
   "id": "a8475c04",
   "metadata": {},
   "outputs": [
    {
     "data": {
      "text/html": [
       "<div>\n",
       "<style scoped>\n",
       "    .dataframe tbody tr th:only-of-type {\n",
       "        vertical-align: middle;\n",
       "    }\n",
       "\n",
       "    .dataframe tbody tr th {\n",
       "        vertical-align: top;\n",
       "    }\n",
       "\n",
       "    .dataframe thead th {\n",
       "        text-align: right;\n",
       "    }\n",
       "</style>\n",
       "<table border=\"1\" class=\"dataframe\">\n",
       "  <thead>\n",
       "    <tr style=\"text-align: right;\">\n",
       "      <th></th>\n",
       "      <th>Survived</th>\n",
       "      <th>Pclass_1</th>\n",
       "      <th>Pclass_2</th>\n",
       "      <th>Pclass_3</th>\n",
       "      <th>Abbr_Mr</th>\n",
       "      <th>Abbr_Mrs</th>\n",
       "      <th>Abbr_Miss</th>\n",
       "      <th>Abbr_Master</th>\n",
       "      <th>Sex_female</th>\n",
       "      <th>Sex_male</th>\n",
       "      <th>...</th>\n",
       "      <th>Embarked_C</th>\n",
       "      <th>Embarked_Q</th>\n",
       "      <th>Embarked_S</th>\n",
       "      <th>SibSp_0</th>\n",
       "      <th>SibSp_1</th>\n",
       "      <th>SibSp_2</th>\n",
       "      <th>SibSp_3</th>\n",
       "      <th>SibSp_4</th>\n",
       "      <th>SibSp_5</th>\n",
       "      <th>SibSp_8</th>\n",
       "    </tr>\n",
       "  </thead>\n",
       "  <tbody>\n",
       "    <tr>\n",
       "      <th>0</th>\n",
       "      <td>0</td>\n",
       "      <td>0</td>\n",
       "      <td>0</td>\n",
       "      <td>1</td>\n",
       "      <td>1</td>\n",
       "      <td>0</td>\n",
       "      <td>0</td>\n",
       "      <td>0</td>\n",
       "      <td>0</td>\n",
       "      <td>1</td>\n",
       "      <td>...</td>\n",
       "      <td>0</td>\n",
       "      <td>0</td>\n",
       "      <td>1</td>\n",
       "      <td>0</td>\n",
       "      <td>1</td>\n",
       "      <td>0</td>\n",
       "      <td>0</td>\n",
       "      <td>0</td>\n",
       "      <td>0</td>\n",
       "      <td>0</td>\n",
       "    </tr>\n",
       "    <tr>\n",
       "      <th>1</th>\n",
       "      <td>1</td>\n",
       "      <td>1</td>\n",
       "      <td>0</td>\n",
       "      <td>0</td>\n",
       "      <td>0</td>\n",
       "      <td>1</td>\n",
       "      <td>0</td>\n",
       "      <td>0</td>\n",
       "      <td>1</td>\n",
       "      <td>0</td>\n",
       "      <td>...</td>\n",
       "      <td>1</td>\n",
       "      <td>0</td>\n",
       "      <td>0</td>\n",
       "      <td>0</td>\n",
       "      <td>1</td>\n",
       "      <td>0</td>\n",
       "      <td>0</td>\n",
       "      <td>0</td>\n",
       "      <td>0</td>\n",
       "      <td>0</td>\n",
       "    </tr>\n",
       "    <tr>\n",
       "      <th>2</th>\n",
       "      <td>1</td>\n",
       "      <td>0</td>\n",
       "      <td>0</td>\n",
       "      <td>1</td>\n",
       "      <td>0</td>\n",
       "      <td>0</td>\n",
       "      <td>1</td>\n",
       "      <td>0</td>\n",
       "      <td>1</td>\n",
       "      <td>0</td>\n",
       "      <td>...</td>\n",
       "      <td>0</td>\n",
       "      <td>0</td>\n",
       "      <td>1</td>\n",
       "      <td>1</td>\n",
       "      <td>0</td>\n",
       "      <td>0</td>\n",
       "      <td>0</td>\n",
       "      <td>0</td>\n",
       "      <td>0</td>\n",
       "      <td>0</td>\n",
       "    </tr>\n",
       "    <tr>\n",
       "      <th>3</th>\n",
       "      <td>1</td>\n",
       "      <td>1</td>\n",
       "      <td>0</td>\n",
       "      <td>0</td>\n",
       "      <td>0</td>\n",
       "      <td>1</td>\n",
       "      <td>0</td>\n",
       "      <td>0</td>\n",
       "      <td>1</td>\n",
       "      <td>0</td>\n",
       "      <td>...</td>\n",
       "      <td>0</td>\n",
       "      <td>0</td>\n",
       "      <td>1</td>\n",
       "      <td>0</td>\n",
       "      <td>1</td>\n",
       "      <td>0</td>\n",
       "      <td>0</td>\n",
       "      <td>0</td>\n",
       "      <td>0</td>\n",
       "      <td>0</td>\n",
       "    </tr>\n",
       "    <tr>\n",
       "      <th>4</th>\n",
       "      <td>0</td>\n",
       "      <td>0</td>\n",
       "      <td>0</td>\n",
       "      <td>1</td>\n",
       "      <td>1</td>\n",
       "      <td>0</td>\n",
       "      <td>0</td>\n",
       "      <td>0</td>\n",
       "      <td>0</td>\n",
       "      <td>1</td>\n",
       "      <td>...</td>\n",
       "      <td>0</td>\n",
       "      <td>0</td>\n",
       "      <td>1</td>\n",
       "      <td>1</td>\n",
       "      <td>0</td>\n",
       "      <td>0</td>\n",
       "      <td>0</td>\n",
       "      <td>0</td>\n",
       "      <td>0</td>\n",
       "      <td>0</td>\n",
       "    </tr>\n",
       "  </tbody>\n",
       "</table>\n",
       "<p>5 rows × 47 columns</p>\n",
       "</div>"
      ],
      "text/plain": [
       "   Survived  Pclass_1  Pclass_2  Pclass_3  Abbr_Mr  Abbr_Mrs  Abbr_Miss  \\\n",
       "0         0         0         0         1        1         0          0   \n",
       "1         1         1         0         0        0         1          0   \n",
       "2         1         0         0         1        0         0          1   \n",
       "3         1         1         0         0        0         1          0   \n",
       "4         0         0         0         1        1         0          0   \n",
       "\n",
       "   Abbr_Master  Sex_female  Sex_male  ...  Embarked_C  Embarked_Q  Embarked_S  \\\n",
       "0            0           0         1  ...           0           0           1   \n",
       "1            0           1         0  ...           1           0           0   \n",
       "2            0           1         0  ...           0           0           1   \n",
       "3            0           1         0  ...           0           0           1   \n",
       "4            0           0         1  ...           0           0           1   \n",
       "\n",
       "   SibSp_0  SibSp_1  SibSp_2  SibSp_3  SibSp_4  SibSp_5  SibSp_8  \n",
       "0        0        1        0        0        0        0        0  \n",
       "1        0        1        0        0        0        0        0  \n",
       "2        1        0        0        0        0        0        0  \n",
       "3        0        1        0        0        0        0        0  \n",
       "4        1        0        0        0        0        0        0  \n",
       "\n",
       "[5 rows x 47 columns]"
      ]
     },
     "execution_count": 1221,
     "metadata": {},
     "output_type": "execute_result"
    }
   ],
   "source": [
    "df_bin_encoded.head()"
   ]
  },
  {
   "cell_type": "code",
   "execution_count": 1265,
   "id": "71495fcc",
   "metadata": {},
   "outputs": [],
   "source": [
    "# --- Split the dataframe into data and labels ---\n",
    "\n",
    "X = df_bin_encoded.drop('Survived', axis=1) # data\n",
    "y = df_bin_encoded.Survived # labels"
   ]
  },
  {
   "cell_type": "code",
   "execution_count": 1266,
   "id": "35c4ce8e",
   "metadata": {},
   "outputs": [],
   "source": [
    "X_train, X_test, y_train, y_test = train_test_split(X, y, test_size=0.3, random_state=1)"
   ]
  },
  {
   "cell_type": "code",
   "execution_count": 1267,
   "id": "93d63291",
   "metadata": {},
   "outputs": [
    {
     "data": {
      "text/plain": [
       "DecisionTreeClassifier()"
      ]
     },
     "execution_count": 1267,
     "metadata": {},
     "output_type": "execute_result"
    }
   ],
   "source": [
    "model = DecisionTreeClassifier()\n",
    "model.fit(X_train, y_train)"
   ]
  },
  {
   "cell_type": "markdown",
   "id": "897e221b",
   "metadata": {},
   "source": [
    "## 5.  Submission"
   ]
  },
  {
   "cell_type": "code",
   "execution_count": 1144,
   "id": "1d72f9ad",
   "metadata": {},
   "outputs": [
    {
     "data": {
      "text/html": [
       "<div>\n",
       "<style scoped>\n",
       "    .dataframe tbody tr th:only-of-type {\n",
       "        vertical-align: middle;\n",
       "    }\n",
       "\n",
       "    .dataframe tbody tr th {\n",
       "        vertical-align: top;\n",
       "    }\n",
       "\n",
       "    .dataframe thead th {\n",
       "        text-align: right;\n",
       "    }\n",
       "</style>\n",
       "<table border=\"1\" class=\"dataframe\">\n",
       "  <thead>\n",
       "    <tr style=\"text-align: right;\">\n",
       "      <th></th>\n",
       "      <th>Pclass_1</th>\n",
       "      <th>Pclass_2</th>\n",
       "      <th>Pclass_3</th>\n",
       "      <th>Abbr_Mr</th>\n",
       "      <th>Abbr_Mrs</th>\n",
       "      <th>Abbr_Miss</th>\n",
       "      <th>Abbr_Master</th>\n",
       "      <th>Sex_female</th>\n",
       "      <th>Sex_male</th>\n",
       "      <th>Age_A</th>\n",
       "      <th>...</th>\n",
       "      <th>Fare_D</th>\n",
       "      <th>Fare_E</th>\n",
       "      <th>Fare_F</th>\n",
       "      <th>Fare_G</th>\n",
       "      <th>Fare_H</th>\n",
       "      <th>Fare_I</th>\n",
       "      <th>Fare_J</th>\n",
       "      <th>Embarked_C</th>\n",
       "      <th>Embarked_Q</th>\n",
       "      <th>Embarked_S</th>\n",
       "    </tr>\n",
       "  </thead>\n",
       "  <tbody>\n",
       "    <tr>\n",
       "      <th>0</th>\n",
       "      <td>0</td>\n",
       "      <td>0</td>\n",
       "      <td>1</td>\n",
       "      <td>1</td>\n",
       "      <td>0</td>\n",
       "      <td>0</td>\n",
       "      <td>0</td>\n",
       "      <td>0</td>\n",
       "      <td>1</td>\n",
       "      <td>0</td>\n",
       "      <td>...</td>\n",
       "      <td>0</td>\n",
       "      <td>0</td>\n",
       "      <td>0</td>\n",
       "      <td>0</td>\n",
       "      <td>0</td>\n",
       "      <td>0</td>\n",
       "      <td>0</td>\n",
       "      <td>0</td>\n",
       "      <td>0</td>\n",
       "      <td>1</td>\n",
       "    </tr>\n",
       "    <tr>\n",
       "      <th>1</th>\n",
       "      <td>1</td>\n",
       "      <td>0</td>\n",
       "      <td>0</td>\n",
       "      <td>0</td>\n",
       "      <td>1</td>\n",
       "      <td>0</td>\n",
       "      <td>0</td>\n",
       "      <td>1</td>\n",
       "      <td>0</td>\n",
       "      <td>0</td>\n",
       "      <td>...</td>\n",
       "      <td>0</td>\n",
       "      <td>0</td>\n",
       "      <td>0</td>\n",
       "      <td>0</td>\n",
       "      <td>0</td>\n",
       "      <td>0</td>\n",
       "      <td>0</td>\n",
       "      <td>1</td>\n",
       "      <td>0</td>\n",
       "      <td>0</td>\n",
       "    </tr>\n",
       "    <tr>\n",
       "      <th>2</th>\n",
       "      <td>0</td>\n",
       "      <td>0</td>\n",
       "      <td>1</td>\n",
       "      <td>0</td>\n",
       "      <td>0</td>\n",
       "      <td>1</td>\n",
       "      <td>0</td>\n",
       "      <td>1</td>\n",
       "      <td>0</td>\n",
       "      <td>0</td>\n",
       "      <td>...</td>\n",
       "      <td>0</td>\n",
       "      <td>0</td>\n",
       "      <td>0</td>\n",
       "      <td>0</td>\n",
       "      <td>0</td>\n",
       "      <td>0</td>\n",
       "      <td>0</td>\n",
       "      <td>0</td>\n",
       "      <td>0</td>\n",
       "      <td>1</td>\n",
       "    </tr>\n",
       "    <tr>\n",
       "      <th>3</th>\n",
       "      <td>1</td>\n",
       "      <td>0</td>\n",
       "      <td>0</td>\n",
       "      <td>0</td>\n",
       "      <td>1</td>\n",
       "      <td>0</td>\n",
       "      <td>0</td>\n",
       "      <td>1</td>\n",
       "      <td>0</td>\n",
       "      <td>0</td>\n",
       "      <td>...</td>\n",
       "      <td>0</td>\n",
       "      <td>0</td>\n",
       "      <td>0</td>\n",
       "      <td>0</td>\n",
       "      <td>0</td>\n",
       "      <td>0</td>\n",
       "      <td>0</td>\n",
       "      <td>0</td>\n",
       "      <td>0</td>\n",
       "      <td>1</td>\n",
       "    </tr>\n",
       "    <tr>\n",
       "      <th>4</th>\n",
       "      <td>0</td>\n",
       "      <td>0</td>\n",
       "      <td>1</td>\n",
       "      <td>1</td>\n",
       "      <td>0</td>\n",
       "      <td>0</td>\n",
       "      <td>0</td>\n",
       "      <td>0</td>\n",
       "      <td>1</td>\n",
       "      <td>0</td>\n",
       "      <td>...</td>\n",
       "      <td>0</td>\n",
       "      <td>0</td>\n",
       "      <td>0</td>\n",
       "      <td>0</td>\n",
       "      <td>0</td>\n",
       "      <td>0</td>\n",
       "      <td>0</td>\n",
       "      <td>0</td>\n",
       "      <td>0</td>\n",
       "      <td>1</td>\n",
       "    </tr>\n",
       "  </tbody>\n",
       "</table>\n",
       "<p>5 rows × 53 columns</p>\n",
       "</div>"
      ],
      "text/plain": [
       "   Pclass_1  Pclass_2  Pclass_3  Abbr_Mr  Abbr_Mrs  Abbr_Miss  Abbr_Master  \\\n",
       "0         0         0         1        1         0          0            0   \n",
       "1         1         0         0        0         1          0            0   \n",
       "2         0         0         1        0         0          1            0   \n",
       "3         1         0         0        0         1          0            0   \n",
       "4         0         0         1        1         0          0            0   \n",
       "\n",
       "   Sex_female  Sex_male  Age_A  ...  Fare_D  Fare_E  Fare_F  Fare_G  Fare_H  \\\n",
       "0           0         1      0  ...       0       0       0       0       0   \n",
       "1           1         0      0  ...       0       0       0       0       0   \n",
       "2           1         0      0  ...       0       0       0       0       0   \n",
       "3           1         0      0  ...       0       0       0       0       0   \n",
       "4           0         1      0  ...       0       0       0       0       0   \n",
       "\n",
       "   Fare_I  Fare_J  Embarked_C  Embarked_Q  Embarked_S  \n",
       "0       0       0           0           0           1  \n",
       "1       0       0           1           0           0  \n",
       "2       0       0           0           0           1  \n",
       "3       0       0           0           0           1  \n",
       "4       0       0           0           0           1  \n",
       "\n",
       "[5 rows x 53 columns]"
      ]
     },
     "execution_count": 1144,
     "metadata": {},
     "output_type": "execute_result"
    }
   ],
   "source": [
    "# --- We need our test dataframe to look like this one ---\n",
    "\n",
    "X_train.head()"
   ]
  },
  {
   "cell_type": "code",
   "execution_count": 1145,
   "id": "3be7e11e",
   "metadata": {
    "scrolled": true
   },
   "outputs": [
    {
     "data": {
      "text/html": [
       "<div>\n",
       "<style scoped>\n",
       "    .dataframe tbody tr th:only-of-type {\n",
       "        vertical-align: middle;\n",
       "    }\n",
       "\n",
       "    .dataframe tbody tr th {\n",
       "        vertical-align: top;\n",
       "    }\n",
       "\n",
       "    .dataframe thead th {\n",
       "        text-align: right;\n",
       "    }\n",
       "</style>\n",
       "<table border=\"1\" class=\"dataframe\">\n",
       "  <thead>\n",
       "    <tr style=\"text-align: right;\">\n",
       "      <th></th>\n",
       "      <th>PassengerId</th>\n",
       "      <th>Pclass</th>\n",
       "      <th>Name</th>\n",
       "      <th>Sex</th>\n",
       "      <th>Age</th>\n",
       "      <th>SibSp</th>\n",
       "      <th>Parch</th>\n",
       "      <th>Ticket</th>\n",
       "      <th>Fare</th>\n",
       "      <th>Cabin</th>\n",
       "      <th>Embarked</th>\n",
       "    </tr>\n",
       "  </thead>\n",
       "  <tbody>\n",
       "    <tr>\n",
       "      <th>0</th>\n",
       "      <td>892</td>\n",
       "      <td>3</td>\n",
       "      <td>Kelly, Mr. James</td>\n",
       "      <td>male</td>\n",
       "      <td>34.5</td>\n",
       "      <td>0</td>\n",
       "      <td>0</td>\n",
       "      <td>330911</td>\n",
       "      <td>7.8292</td>\n",
       "      <td>NaN</td>\n",
       "      <td>Q</td>\n",
       "    </tr>\n",
       "    <tr>\n",
       "      <th>1</th>\n",
       "      <td>893</td>\n",
       "      <td>3</td>\n",
       "      <td>Wilkes, Mrs. James (Ellen Needs)</td>\n",
       "      <td>female</td>\n",
       "      <td>47.0</td>\n",
       "      <td>1</td>\n",
       "      <td>0</td>\n",
       "      <td>363272</td>\n",
       "      <td>7.0000</td>\n",
       "      <td>NaN</td>\n",
       "      <td>S</td>\n",
       "    </tr>\n",
       "    <tr>\n",
       "      <th>2</th>\n",
       "      <td>894</td>\n",
       "      <td>2</td>\n",
       "      <td>Myles, Mr. Thomas Francis</td>\n",
       "      <td>male</td>\n",
       "      <td>62.0</td>\n",
       "      <td>0</td>\n",
       "      <td>0</td>\n",
       "      <td>240276</td>\n",
       "      <td>9.6875</td>\n",
       "      <td>NaN</td>\n",
       "      <td>Q</td>\n",
       "    </tr>\n",
       "    <tr>\n",
       "      <th>3</th>\n",
       "      <td>895</td>\n",
       "      <td>3</td>\n",
       "      <td>Wirz, Mr. Albert</td>\n",
       "      <td>male</td>\n",
       "      <td>27.0</td>\n",
       "      <td>0</td>\n",
       "      <td>0</td>\n",
       "      <td>315154</td>\n",
       "      <td>8.6625</td>\n",
       "      <td>NaN</td>\n",
       "      <td>S</td>\n",
       "    </tr>\n",
       "    <tr>\n",
       "      <th>4</th>\n",
       "      <td>896</td>\n",
       "      <td>3</td>\n",
       "      <td>Hirvonen, Mrs. Alexander (Helga E Lindqvist)</td>\n",
       "      <td>female</td>\n",
       "      <td>22.0</td>\n",
       "      <td>1</td>\n",
       "      <td>1</td>\n",
       "      <td>3101298</td>\n",
       "      <td>12.2875</td>\n",
       "      <td>NaN</td>\n",
       "      <td>S</td>\n",
       "    </tr>\n",
       "  </tbody>\n",
       "</table>\n",
       "</div>"
      ],
      "text/plain": [
       "   PassengerId  Pclass                                          Name     Sex  \\\n",
       "0          892       3                              Kelly, Mr. James    male   \n",
       "1          893       3              Wilkes, Mrs. James (Ellen Needs)  female   \n",
       "2          894       2                     Myles, Mr. Thomas Francis    male   \n",
       "3          895       3                              Wirz, Mr. Albert    male   \n",
       "4          896       3  Hirvonen, Mrs. Alexander (Helga E Lindqvist)  female   \n",
       "\n",
       "    Age  SibSp  Parch   Ticket     Fare Cabin Embarked  \n",
       "0  34.5      0      0   330911   7.8292   NaN        Q  \n",
       "1  47.0      1      0   363272   7.0000   NaN        S  \n",
       "2  62.0      0      0   240276   9.6875   NaN        Q  \n",
       "3  27.0      0      0   315154   8.6625   NaN        S  \n",
       "4  22.0      1      1  3101298  12.2875   NaN        S  "
      ]
     },
     "execution_count": 1145,
     "metadata": {},
     "output_type": "execute_result"
    }
   ],
   "source": [
    "# --- Our test dataframe has some columns our model hasn't been trained on ---\n",
    "\n",
    "test.head()"
   ]
  },
  {
   "cell_type": "code",
   "execution_count": 1146,
   "id": "635a2bd8",
   "metadata": {},
   "outputs": [],
   "source": [
    "# --- Encode Pclass feature ---\n",
    "\n",
    "test_Pclass_encoded = pd.get_dummies(test['Pclass'], prefix='Pclass')"
   ]
  },
  {
   "cell_type": "code",
   "execution_count": 1176,
   "id": "8111ebd9",
   "metadata": {},
   "outputs": [
    {
     "name": "stdout",
     "output_type": "stream",
     "text": [
      "Number of passengers with Mr:       240\n",
      "Number of passengers with Mrs:      72\n",
      "Number of passengers with Miss:     78\n",
      "----------------------------------------\n",
      "Number of remaining passengers:     28\n"
     ]
    }
   ],
   "source": [
    "# --- Calculate the number of rows for each abbreviation ---\n",
    "\n",
    "no_mr = test['Name'].str.contains(' Mr. ', case=False).sum()\n",
    "no_mrs = test['Name'].str.contains(' Mrs.', case=False).sum()\n",
    "no_miss = test['Name'].str.contains(' Miss.', case=False).sum()\n",
    "no_other = test.shape[0] - no_mr - no_mrs - no_miss\n",
    "\n",
    "print(f\"{'Number of passengers with Mr:':<35} {no_mr}\")\n",
    "print(f\"{'Number of passengers with Mrs:':<35} {no_mrs}\")\n",
    "print(f\"{'Number of passengers with Miss:':<35} {no_miss}\")\n",
    "print(f\"{'-' * 40}\")\n",
    "print(f\"{'Number of remaining passengers:':<35} {no_other}\")"
   ]
  },
  {
   "cell_type": "code",
   "execution_count": 1177,
   "id": "8259b95f",
   "metadata": {},
   "outputs": [],
   "source": [
    "# --- Increase the max_rows and max_colwitdh values to be able to see all rows and columns properly ---\n",
    "\n",
    "pd.set_option(\"max_rows\", None)\n",
    "pd.set_option(\"max_colwidth\", None)"
   ]
  },
  {
   "cell_type": "code",
   "execution_count": 1178,
   "id": "0b687890",
   "metadata": {},
   "outputs": [
    {
     "data": {
      "text/html": [
       "<div>\n",
       "<style scoped>\n",
       "    .dataframe tbody tr th:only-of-type {\n",
       "        vertical-align: middle;\n",
       "    }\n",
       "\n",
       "    .dataframe tbody tr th {\n",
       "        vertical-align: top;\n",
       "    }\n",
       "\n",
       "    .dataframe thead th {\n",
       "        text-align: right;\n",
       "    }\n",
       "</style>\n",
       "<table border=\"1\" class=\"dataframe\">\n",
       "  <thead>\n",
       "    <tr style=\"text-align: right;\">\n",
       "      <th></th>\n",
       "      <th>PassengerId</th>\n",
       "      <th>Name</th>\n",
       "      <th>Sex</th>\n",
       "    </tr>\n",
       "  </thead>\n",
       "  <tbody>\n",
       "    <tr>\n",
       "      <th>88</th>\n",
       "      <td>980</td>\n",
       "      <td>O'Donoghue, Ms. Bridget</td>\n",
       "      <td>female</td>\n",
       "    </tr>\n",
       "    <tr>\n",
       "      <th>414</th>\n",
       "      <td>1306</td>\n",
       "      <td>Oliva y Ocana, Dona. Fermina</td>\n",
       "      <td>female</td>\n",
       "    </tr>\n",
       "    <tr>\n",
       "      <th>21</th>\n",
       "      <td>913</td>\n",
       "      <td>Olsen, Master. Artur Karl</td>\n",
       "      <td>male</td>\n",
       "    </tr>\n",
       "    <tr>\n",
       "      <th>392</th>\n",
       "      <td>1284</td>\n",
       "      <td>Abbott, Master. Eugene Joseph</td>\n",
       "      <td>male</td>\n",
       "    </tr>\n",
       "    <tr>\n",
       "      <th>389</th>\n",
       "      <td>1281</td>\n",
       "      <td>Palsson, Master. Paul Folke</td>\n",
       "      <td>male</td>\n",
       "    </tr>\n",
       "    <tr>\n",
       "      <th>379</th>\n",
       "      <td>1271</td>\n",
       "      <td>Asplund, Master. Carl Edgar</td>\n",
       "      <td>male</td>\n",
       "    </tr>\n",
       "    <tr>\n",
       "      <th>360</th>\n",
       "      <td>1252</td>\n",
       "      <td>Sage, Master. William Henry</td>\n",
       "      <td>male</td>\n",
       "    </tr>\n",
       "    <tr>\n",
       "      <th>344</th>\n",
       "      <td>1236</td>\n",
       "      <td>van Billiard, Master. James William</td>\n",
       "      <td>male</td>\n",
       "    </tr>\n",
       "    <tr>\n",
       "      <th>339</th>\n",
       "      <td>1231</td>\n",
       "      <td>Betros, Master. Seman</td>\n",
       "      <td>male</td>\n",
       "    </tr>\n",
       "    <tr>\n",
       "      <th>307</th>\n",
       "      <td>1199</td>\n",
       "      <td>Aks, Master. Philip Frank</td>\n",
       "      <td>male</td>\n",
       "    </tr>\n",
       "    <tr>\n",
       "      <th>293</th>\n",
       "      <td>1185</td>\n",
       "      <td>Dodge, Dr. Washington</td>\n",
       "      <td>male</td>\n",
       "    </tr>\n",
       "    <tr>\n",
       "      <th>281</th>\n",
       "      <td>1173</td>\n",
       "      <td>Peacock, Master. Alfred Edward</td>\n",
       "      <td>male</td>\n",
       "    </tr>\n",
       "    <tr>\n",
       "      <th>244</th>\n",
       "      <td>1136</td>\n",
       "      <td>Johnston, Master. William Arthur Willie\"\"</td>\n",
       "      <td>male</td>\n",
       "    </tr>\n",
       "    <tr>\n",
       "      <th>202</th>\n",
       "      <td>1094</td>\n",
       "      <td>Astor, Col. John Jacob</td>\n",
       "      <td>male</td>\n",
       "    </tr>\n",
       "    <tr>\n",
       "      <th>196</th>\n",
       "      <td>1088</td>\n",
       "      <td>Spedden, Master. Robert Douglas</td>\n",
       "      <td>male</td>\n",
       "    </tr>\n",
       "    <tr>\n",
       "      <th>194</th>\n",
       "      <td>1086</td>\n",
       "      <td>Drew, Master. Marshall Brines</td>\n",
       "      <td>male</td>\n",
       "    </tr>\n",
       "    <tr>\n",
       "      <th>192</th>\n",
       "      <td>1084</td>\n",
       "      <td>van Billiard, Master. Walter John</td>\n",
       "      <td>male</td>\n",
       "    </tr>\n",
       "    <tr>\n",
       "      <th>164</th>\n",
       "      <td>1056</td>\n",
       "      <td>Peruschitz, Rev. Joseph Maria</td>\n",
       "      <td>male</td>\n",
       "    </tr>\n",
       "    <tr>\n",
       "      <th>161</th>\n",
       "      <td>1053</td>\n",
       "      <td>Touma, Master. Georges Youssef</td>\n",
       "      <td>male</td>\n",
       "    </tr>\n",
       "    <tr>\n",
       "      <th>154</th>\n",
       "      <td>1046</td>\n",
       "      <td>Asplund, Master. Filip Oscar</td>\n",
       "      <td>male</td>\n",
       "    </tr>\n",
       "    <tr>\n",
       "      <th>149</th>\n",
       "      <td>1041</td>\n",
       "      <td>Lahtinen, Rev. William</td>\n",
       "      <td>male</td>\n",
       "    </tr>\n",
       "    <tr>\n",
       "      <th>131</th>\n",
       "      <td>1023</td>\n",
       "      <td>Gracie, Col. Archibald IV</td>\n",
       "      <td>male</td>\n",
       "    </tr>\n",
       "    <tr>\n",
       "      <th>89</th>\n",
       "      <td>981</td>\n",
       "      <td>Wells, Master. Ralph Lester</td>\n",
       "      <td>male</td>\n",
       "    </tr>\n",
       "    <tr>\n",
       "      <th>80</th>\n",
       "      <td>972</td>\n",
       "      <td>Boulos, Master. Akar</td>\n",
       "      <td>male</td>\n",
       "    </tr>\n",
       "    <tr>\n",
       "      <th>64</th>\n",
       "      <td>956</td>\n",
       "      <td>Ryerson, Master. John Borie</td>\n",
       "      <td>male</td>\n",
       "    </tr>\n",
       "    <tr>\n",
       "      <th>55</th>\n",
       "      <td>947</td>\n",
       "      <td>Rice, Master. Albert</td>\n",
       "      <td>male</td>\n",
       "    </tr>\n",
       "    <tr>\n",
       "      <th>201</th>\n",
       "      <td>1093</td>\n",
       "      <td>Danbom, Master. Gilbert Sigvard Emanuel</td>\n",
       "      <td>male</td>\n",
       "    </tr>\n",
       "    <tr>\n",
       "      <th>417</th>\n",
       "      <td>1309</td>\n",
       "      <td>Peter, Master. Michael J</td>\n",
       "      <td>male</td>\n",
       "    </tr>\n",
       "  </tbody>\n",
       "</table>\n",
       "</div>"
      ],
      "text/plain": [
       "     PassengerId                                       Name     Sex\n",
       "88           980                    O'Donoghue, Ms. Bridget  female\n",
       "414         1306               Oliva y Ocana, Dona. Fermina  female\n",
       "21           913                  Olsen, Master. Artur Karl    male\n",
       "392         1284              Abbott, Master. Eugene Joseph    male\n",
       "389         1281                Palsson, Master. Paul Folke    male\n",
       "379         1271                Asplund, Master. Carl Edgar    male\n",
       "360         1252                Sage, Master. William Henry    male\n",
       "344         1236        van Billiard, Master. James William    male\n",
       "339         1231                      Betros, Master. Seman    male\n",
       "307         1199                  Aks, Master. Philip Frank    male\n",
       "293         1185                      Dodge, Dr. Washington    male\n",
       "281         1173             Peacock, Master. Alfred Edward    male\n",
       "244         1136  Johnston, Master. William Arthur Willie\"\"    male\n",
       "202         1094                     Astor, Col. John Jacob    male\n",
       "196         1088            Spedden, Master. Robert Douglas    male\n",
       "194         1086              Drew, Master. Marshall Brines    male\n",
       "192         1084          van Billiard, Master. Walter John    male\n",
       "164         1056              Peruschitz, Rev. Joseph Maria    male\n",
       "161         1053             Touma, Master. Georges Youssef    male\n",
       "154         1046               Asplund, Master. Filip Oscar    male\n",
       "149         1041                     Lahtinen, Rev. William    male\n",
       "131         1023                  Gracie, Col. Archibald IV    male\n",
       "89           981                Wells, Master. Ralph Lester    male\n",
       "80           972                       Boulos, Master. Akar    male\n",
       "64           956                Ryerson, Master. John Borie    male\n",
       "55           947                       Rice, Master. Albert    male\n",
       "201         1093    Danbom, Master. Gilbert Sigvard Emanuel    male\n",
       "417         1309                   Peter, Master. Michael J    male"
      ]
     },
     "execution_count": 1178,
     "metadata": {},
     "output_type": "execute_result"
    }
   ],
   "source": [
    "# --- List the remaining 28 passengers ---\n",
    "\n",
    "df = test.loc[(test['Name'].str.contains(' Mr. ', case=False) == False) & \n",
    "               (test['Name'].str.contains(' Mrs. ', case=False) == False) & \n",
    "               (test['Name'].str.contains(' Miss. ', case=False) == False)]\n",
    "\n",
    "df[['PassengerId', 'Name', 'Sex']].sort_values('Sex')"
   ]
  },
  {
   "cell_type": "code",
   "execution_count": 1179,
   "id": "6fccdea5",
   "metadata": {},
   "outputs": [],
   "source": [
    "# --- Fix the female names ---\n",
    "\n",
    "test.loc[88, 'Name'] = 'Donoghue, Miss. Bridget' # Ms = Miss\n",
    "test.loc[414, 'Name'] = 'Oliva y Ocana, Dona. Miss. Fermina' # added Miss"
   ]
  },
  {
   "cell_type": "code",
   "execution_count": 1181,
   "id": "3040ac3f",
   "metadata": {},
   "outputs": [],
   "source": [
    "# --- Fix the male names who are not 'Master' ---\n",
    "\n",
    "test.loc[(test['Sex'] == 'male') & \n",
    "          (~test['Name'].str.contains(' Mr. ', case=False)) &\n",
    "          (~test['Name'].str.contains('Master', case=False)), 'Name'] = test['Name'].astype(str) + ' Mr. '"
   ]
  },
  {
   "cell_type": "code",
   "execution_count": 1182,
   "id": "d4970f1f",
   "metadata": {},
   "outputs": [
    {
     "name": "stdout",
     "output_type": "stream",
     "text": [
      "Number of passengers with Mr:       245\n",
      "Number of passengers with Mrs:      72\n",
      "Number of passengers with Miss:     80\n",
      "Number of passengers with Master:   21\n",
      "----------------------------------------\n",
      "Number of remaining passengers:     0\n"
     ]
    }
   ],
   "source": [
    "# --- Now all the names have one abbreviation ---\n",
    "\n",
    "no_mr = test['Name'].str.contains(' Mr. ', case=False).sum()\n",
    "no_mrs = test['Name'].str.contains(' Mrs.', case=False).sum()\n",
    "no_miss = test['Name'].str.contains(' Miss.', case=False).sum()\n",
    "no_master = test['Name'].str.contains('Master', case=False).sum()\n",
    "no_other = test.shape[0] - no_mr - no_mrs - no_miss - no_master\n",
    "\n",
    "print(f\"{'Number of passengers with Mr:':<35} {no_mr}\")\n",
    "print(f\"{'Number of passengers with Mrs:':<35} {no_mrs}\")\n",
    "print(f\"{'Number of passengers with Miss:':<35} {no_miss}\")\n",
    "print(f\"{'Number of passengers with Master:':<35} {no_master}\")\n",
    "print(f\"{'-' * 40}\")\n",
    "print(f\"{'Number of remaining passengers:':<35} {no_other}\")\n"
   ]
  },
  {
   "cell_type": "code",
   "execution_count": 1183,
   "id": "de703949",
   "metadata": {},
   "outputs": [],
   "source": [
    "# --- Set the max_rows and max_colwitdh values to default again ---\n",
    "\n",
    "pd.set_option(\"max_rows\", 60)\n",
    "pd.set_option(\"max_colwidth\", 50)"
   ]
  },
  {
   "cell_type": "code",
   "execution_count": 1186,
   "id": "7c2378a8",
   "metadata": {},
   "outputs": [],
   "source": [
    "# --- Now, let's create new columns for each abbreviation ---\n",
    "\n",
    "test_Name_encoded = pd.DataFrame()\n",
    "test_Name_encoded['Abbr_Mr'] = test['Name'].apply(lambda x: 1 if ' Mr. ' in x else 0)\n",
    "test_Name_encoded['Abbr_Mrs'] = test['Name'].apply(lambda x: 1 if ' Mrs.' in x else 0)\n",
    "test_Name_encoded['Abbr_Miss'] = test['Name'].apply(lambda x: 1 if ' Miss.' in x else 0)\n",
    "test_Name_encoded['Abbr_Master'] = test['Name'].apply(lambda x: 1 if 'Master' in x else 0)"
   ]
  },
  {
   "cell_type": "code",
   "execution_count": 1188,
   "id": "37fa9926",
   "metadata": {},
   "outputs": [],
   "source": [
    "# --- Encode Sex feature ---\n",
    "\n",
    "test_Sex_encoded = pd.get_dummies(test['Sex'], prefix='Sex')"
   ]
  },
  {
   "cell_type": "code",
   "execution_count": 1190,
   "id": "80912fce",
   "metadata": {},
   "outputs": [],
   "source": [
    "# --- Binning for Age feature ---\n",
    "\n",
    "test_df_temp = pd.DataFrame()\n",
    "bin_list = [0, 10, 20, 30, 40, 50, 60, 70, 80, 90, 100]\n",
    "label_list = ['A', 'B', 'C', 'D', 'E', 'F', 'G', 'H', 'I', 'J']\n",
    "test_df_temp['Age_bin'] = pd.cut(test['Age'], bins=bin_list, labels=label_list)"
   ]
  },
  {
   "cell_type": "code",
   "execution_count": 1191,
   "id": "0384b7b2",
   "metadata": {},
   "outputs": [],
   "source": [
    "# --- Encode Age feature ---\n",
    "\n",
    "test_age_encoded = pd.get_dummies(test_df_temp['Age_bin'], prefix='Age')"
   ]
  },
  {
   "cell_type": "code",
   "execution_count": 1193,
   "id": "698646dc",
   "metadata": {},
   "outputs": [],
   "source": [
    "# --- Encode SibSp feature ---\n",
    "\n",
    "test_SibSp_encoded = pd.get_dummies(test['SibSp'], prefix='SibSp')"
   ]
  },
  {
   "cell_type": "code",
   "execution_count": 1197,
   "id": "7c3fd598",
   "metadata": {},
   "outputs": [],
   "source": [
    "# --- Encode Parch feature ---\n",
    "\n",
    "test_Parch_encoded = pd.get_dummies(test['Parch'], prefix='Parch')"
   ]
  },
  {
   "cell_type": "code",
   "execution_count": 1198,
   "id": "e8227cec",
   "metadata": {},
   "outputs": [],
   "source": [
    "# --- Encode Fare feature ---\n",
    "\n",
    "test_df_temp = pd.DataFrame()\n",
    "bin_list = [0, 25, 50, 75, 100, 150, 200, 300, 400, 500, 600]\n",
    "label_list = ['A', 'B', 'C', 'D', 'E', 'F', 'G', 'H', 'I', 'J']\n",
    "test_df_temp['Fare_bin'] = pd.cut(test['Fare'], bins=bin_list, labels=label_list)"
   ]
  },
  {
   "cell_type": "code",
   "execution_count": 1199,
   "id": "81b9859e",
   "metadata": {},
   "outputs": [],
   "source": [
    "# --- Encode Fare feature ---\n",
    "\n",
    "test_Fare_encoded = pd.get_dummies(test_df_temp['Fare_bin'], prefix='Fare')"
   ]
  },
  {
   "cell_type": "code",
   "execution_count": 1200,
   "id": "1eff05d5",
   "metadata": {},
   "outputs": [],
   "source": [
    "# --- Encode Embarked feature ---\n",
    "\n",
    "test_Embarked_encoded = pd.get_dummies(test['Embarked'], prefix='Embarked')"
   ]
  },
  {
   "cell_type": "code",
   "execution_count": 1225,
   "id": "e14f06e2",
   "metadata": {},
   "outputs": [],
   "source": [
    "# --- Combine the test encoded columns with test ---\n",
    "\n",
    "test = pd.concat([test, \n",
    "                  test_Pclass_encoded, \n",
    "                  test_Name_encoded,\n",
    "                  test_Sex_encoded, \n",
    "                  test_age_encoded,\n",
    "                  test_SibSp_encoded,\n",
    "                  test_Parch_encoded,\n",
    "                  test_Fare_encoded,\n",
    "                  test_Embarked_encoded], axis=1)"
   ]
  },
  {
   "cell_type": "code",
   "execution_count": 1226,
   "id": "eafad918",
   "metadata": {},
   "outputs": [
    {
     "data": {
      "text/html": [
       "<div>\n",
       "<style scoped>\n",
       "    .dataframe tbody tr th:only-of-type {\n",
       "        vertical-align: middle;\n",
       "    }\n",
       "\n",
       "    .dataframe tbody tr th {\n",
       "        vertical-align: top;\n",
       "    }\n",
       "\n",
       "    .dataframe thead th {\n",
       "        text-align: right;\n",
       "    }\n",
       "</style>\n",
       "<table border=\"1\" class=\"dataframe\">\n",
       "  <thead>\n",
       "    <tr style=\"text-align: right;\">\n",
       "      <th></th>\n",
       "      <th>PassengerId</th>\n",
       "      <th>Pclass</th>\n",
       "      <th>Name</th>\n",
       "      <th>Sex</th>\n",
       "      <th>Age</th>\n",
       "      <th>SibSp</th>\n",
       "      <th>Parch</th>\n",
       "      <th>Ticket</th>\n",
       "      <th>Fare</th>\n",
       "      <th>Cabin</th>\n",
       "      <th>...</th>\n",
       "      <th>Fare_D</th>\n",
       "      <th>Fare_E</th>\n",
       "      <th>Fare_F</th>\n",
       "      <th>Fare_G</th>\n",
       "      <th>Fare_H</th>\n",
       "      <th>Fare_I</th>\n",
       "      <th>Fare_J</th>\n",
       "      <th>Embarked_C</th>\n",
       "      <th>Embarked_Q</th>\n",
       "      <th>Embarked_S</th>\n",
       "    </tr>\n",
       "  </thead>\n",
       "  <tbody>\n",
       "    <tr>\n",
       "      <th>0</th>\n",
       "      <td>892</td>\n",
       "      <td>3</td>\n",
       "      <td>Kelly, Mr. James</td>\n",
       "      <td>male</td>\n",
       "      <td>34.5</td>\n",
       "      <td>0</td>\n",
       "      <td>0</td>\n",
       "      <td>330911</td>\n",
       "      <td>7.8292</td>\n",
       "      <td>NaN</td>\n",
       "      <td>...</td>\n",
       "      <td>0</td>\n",
       "      <td>0</td>\n",
       "      <td>0</td>\n",
       "      <td>0</td>\n",
       "      <td>0</td>\n",
       "      <td>0</td>\n",
       "      <td>0</td>\n",
       "      <td>0</td>\n",
       "      <td>1</td>\n",
       "      <td>0</td>\n",
       "    </tr>\n",
       "    <tr>\n",
       "      <th>1</th>\n",
       "      <td>893</td>\n",
       "      <td>3</td>\n",
       "      <td>Wilkes, Mrs. James (Ellen Needs)</td>\n",
       "      <td>female</td>\n",
       "      <td>47.0</td>\n",
       "      <td>1</td>\n",
       "      <td>0</td>\n",
       "      <td>363272</td>\n",
       "      <td>7.0000</td>\n",
       "      <td>NaN</td>\n",
       "      <td>...</td>\n",
       "      <td>0</td>\n",
       "      <td>0</td>\n",
       "      <td>0</td>\n",
       "      <td>0</td>\n",
       "      <td>0</td>\n",
       "      <td>0</td>\n",
       "      <td>0</td>\n",
       "      <td>0</td>\n",
       "      <td>0</td>\n",
       "      <td>1</td>\n",
       "    </tr>\n",
       "    <tr>\n",
       "      <th>2</th>\n",
       "      <td>894</td>\n",
       "      <td>2</td>\n",
       "      <td>Myles, Mr. Thomas Francis</td>\n",
       "      <td>male</td>\n",
       "      <td>62.0</td>\n",
       "      <td>0</td>\n",
       "      <td>0</td>\n",
       "      <td>240276</td>\n",
       "      <td>9.6875</td>\n",
       "      <td>NaN</td>\n",
       "      <td>...</td>\n",
       "      <td>0</td>\n",
       "      <td>0</td>\n",
       "      <td>0</td>\n",
       "      <td>0</td>\n",
       "      <td>0</td>\n",
       "      <td>0</td>\n",
       "      <td>0</td>\n",
       "      <td>0</td>\n",
       "      <td>1</td>\n",
       "      <td>0</td>\n",
       "    </tr>\n",
       "    <tr>\n",
       "      <th>3</th>\n",
       "      <td>895</td>\n",
       "      <td>3</td>\n",
       "      <td>Wirz, Mr. Albert</td>\n",
       "      <td>male</td>\n",
       "      <td>27.0</td>\n",
       "      <td>0</td>\n",
       "      <td>0</td>\n",
       "      <td>315154</td>\n",
       "      <td>8.6625</td>\n",
       "      <td>NaN</td>\n",
       "      <td>...</td>\n",
       "      <td>0</td>\n",
       "      <td>0</td>\n",
       "      <td>0</td>\n",
       "      <td>0</td>\n",
       "      <td>0</td>\n",
       "      <td>0</td>\n",
       "      <td>0</td>\n",
       "      <td>0</td>\n",
       "      <td>0</td>\n",
       "      <td>1</td>\n",
       "    </tr>\n",
       "    <tr>\n",
       "      <th>4</th>\n",
       "      <td>896</td>\n",
       "      <td>3</td>\n",
       "      <td>Hirvonen, Mrs. Alexander (Helga E Lindqvist)</td>\n",
       "      <td>female</td>\n",
       "      <td>22.0</td>\n",
       "      <td>1</td>\n",
       "      <td>1</td>\n",
       "      <td>3101298</td>\n",
       "      <td>12.2875</td>\n",
       "      <td>NaN</td>\n",
       "      <td>...</td>\n",
       "      <td>0</td>\n",
       "      <td>0</td>\n",
       "      <td>0</td>\n",
       "      <td>0</td>\n",
       "      <td>0</td>\n",
       "      <td>0</td>\n",
       "      <td>0</td>\n",
       "      <td>0</td>\n",
       "      <td>0</td>\n",
       "      <td>1</td>\n",
       "    </tr>\n",
       "  </tbody>\n",
       "</table>\n",
       "<p>5 rows × 58 columns</p>\n",
       "</div>"
      ],
      "text/plain": [
       "   PassengerId  Pclass                                          Name     Sex  \\\n",
       "0          892       3                              Kelly, Mr. James    male   \n",
       "1          893       3              Wilkes, Mrs. James (Ellen Needs)  female   \n",
       "2          894       2                     Myles, Mr. Thomas Francis    male   \n",
       "3          895       3                              Wirz, Mr. Albert    male   \n",
       "4          896       3  Hirvonen, Mrs. Alexander (Helga E Lindqvist)  female   \n",
       "\n",
       "    Age  SibSp  Parch   Ticket     Fare Cabin  ... Fare_D  Fare_E  Fare_F  \\\n",
       "0  34.5      0      0   330911   7.8292   NaN  ...      0       0       0   \n",
       "1  47.0      1      0   363272   7.0000   NaN  ...      0       0       0   \n",
       "2  62.0      0      0   240276   9.6875   NaN  ...      0       0       0   \n",
       "3  27.0      0      0   315154   8.6625   NaN  ...      0       0       0   \n",
       "4  22.0      1      1  3101298  12.2875   NaN  ...      0       0       0   \n",
       "\n",
       "   Fare_G  Fare_H  Fare_I  Fare_J  Embarked_C  Embarked_Q  Embarked_S  \n",
       "0       0       0       0       0           0           1           0  \n",
       "1       0       0       0       0           0           0           1  \n",
       "2       0       0       0       0           0           1           0  \n",
       "3       0       0       0       0           0           0           1  \n",
       "4       0       0       0       0           0           0           1  \n",
       "\n",
       "[5 rows x 58 columns]"
      ]
     },
     "execution_count": 1226,
     "metadata": {},
     "output_type": "execute_result"
    }
   ],
   "source": [
    "# ---  Let's look at test, it should have one hot encoded columns now ---\n",
    "\n",
    "test.head()"
   ]
  },
  {
   "cell_type": "code",
   "execution_count": 1227,
   "id": "0506c2bb",
   "metadata": {},
   "outputs": [
    {
     "data": {
      "text/plain": [
       "Index(['Pclass_1', 'Pclass_2', 'Pclass_3', 'Abbr_Mr', 'Abbr_Mrs', 'Abbr_Miss',\n",
       "       'Abbr_Master', 'Sex_female', 'Sex_male', 'Age_A', 'Age_B', 'Age_C',\n",
       "       'Age_D', 'Age_E', 'Age_F', 'Age_G', 'Age_H', 'Age_I', 'Age_J',\n",
       "       'Parch_0', 'Parch_1', 'Parch_2', 'Parch_3', 'Parch_4', 'Parch_5',\n",
       "       'Parch_6', 'Fare_A', 'Fare_B', 'Fare_C', 'Fare_D', 'Fare_E', 'Fare_F',\n",
       "       'Fare_G', 'Fare_H', 'Fare_I', 'Fare_J', 'Embarked_C', 'Embarked_Q',\n",
       "       'Embarked_S', 'SibSp_0', 'SibSp_1', 'SibSp_2', 'SibSp_3', 'SibSp_4',\n",
       "       'SibSp_5', 'SibSp_8'],\n",
       "      dtype='object')"
      ]
     },
     "execution_count": 1227,
     "metadata": {},
     "output_type": "execute_result"
    }
   ],
   "source": [
    "# --- Create a list of columns to be used for the predictions ---\n",
    "\n",
    "wanted_test_columns = X_train.columns\n",
    "wanted_test_columns"
   ]
  },
  {
   "cell_type": "code",
   "execution_count": 1254,
   "id": "827af6f0",
   "metadata": {},
   "outputs": [],
   "source": [
    "# --- Make the prediction with fitted model ---\n",
    "\n",
    "prediction = model.predict(test[wanted_test_columns])"
   ]
  },
  {
   "cell_type": "code",
   "execution_count": 1255,
   "id": "da466b68",
   "metadata": {},
   "outputs": [
    {
     "data": {
      "text/html": [
       "<div>\n",
       "<style scoped>\n",
       "    .dataframe tbody tr th:only-of-type {\n",
       "        vertical-align: middle;\n",
       "    }\n",
       "\n",
       "    .dataframe tbody tr th {\n",
       "        vertical-align: top;\n",
       "    }\n",
       "\n",
       "    .dataframe thead th {\n",
       "        text-align: right;\n",
       "    }\n",
       "</style>\n",
       "<table border=\"1\" class=\"dataframe\">\n",
       "  <thead>\n",
       "    <tr style=\"text-align: right;\">\n",
       "      <th></th>\n",
       "      <th>PassengerId</th>\n",
       "      <th>Survived</th>\n",
       "    </tr>\n",
       "  </thead>\n",
       "  <tbody>\n",
       "    <tr>\n",
       "      <th>0</th>\n",
       "      <td>892</td>\n",
       "      <td>0</td>\n",
       "    </tr>\n",
       "    <tr>\n",
       "      <th>1</th>\n",
       "      <td>893</td>\n",
       "      <td>0</td>\n",
       "    </tr>\n",
       "    <tr>\n",
       "      <th>2</th>\n",
       "      <td>894</td>\n",
       "      <td>0</td>\n",
       "    </tr>\n",
       "    <tr>\n",
       "      <th>3</th>\n",
       "      <td>895</td>\n",
       "      <td>0</td>\n",
       "    </tr>\n",
       "    <tr>\n",
       "      <th>4</th>\n",
       "      <td>896</td>\n",
       "      <td>0</td>\n",
       "    </tr>\n",
       "  </tbody>\n",
       "</table>\n",
       "</div>"
      ],
      "text/plain": [
       "   PassengerId  Survived\n",
       "0          892         0\n",
       "1          893         0\n",
       "2          894         0\n",
       "3          895         0\n",
       "4          896         0"
      ]
     },
     "execution_count": 1255,
     "metadata": {},
     "output_type": "execute_result"
    }
   ],
   "source": [
    "# --- Create the submission dataframe ---\n",
    "\n",
    "submission = pd.DataFrame()\n",
    "submission['PassengerId'] = test['PassengerId']\n",
    "submission['Survived'] = prediction # our model predictions on the test dataset\n",
    "submission.head()"
   ]
  },
  {
   "cell_type": "code",
   "execution_count": 1257,
   "id": "e055ffc9",
   "metadata": {},
   "outputs": [],
   "source": [
    "# --- Create the submission file ---\n",
    "\n",
    "submission.to_csv('titanic_submission_decision_tree.csv', index=False)"
   ]
  }
 ],
 "metadata": {
  "kernelspec": {
   "display_name": "Python 3",
   "language": "python",
   "name": "python3"
  },
  "language_info": {
   "codemirror_mode": {
    "name": "ipython",
    "version": 3
   },
   "file_extension": ".py",
   "mimetype": "text/x-python",
   "name": "python",
   "nbconvert_exporter": "python",
   "pygments_lexer": "ipython3",
   "version": "3.8.8"
  }
 },
 "nbformat": 4,
 "nbformat_minor": 5
}
